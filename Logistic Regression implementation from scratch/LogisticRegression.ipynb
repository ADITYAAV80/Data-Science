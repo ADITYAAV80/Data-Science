{
  "nbformat": 4,
  "nbformat_minor": 0,
  "metadata": {
    "colab": {
      "name": "LogisticRegression.ipynb",
      "provenance": []
    },
    "kernelspec": {
      "name": "python3",
      "display_name": "Python 3"
    }
  },
  "cells": [
    {
      "cell_type": "code",
      "metadata": {
        "id": "_qNTjLyT78AE"
      },
      "source": [
        "from google.colab import drive"
      ],
      "execution_count": 1,
      "outputs": []
    },
    {
      "cell_type": "code",
      "metadata": {
        "id": "blRXjQiQN4T2",
        "colab": {
          "base_uri": "https://localhost:8080/"
        },
        "outputId": "daec7a16-8c01-4021-8b58-abbb1b10c082"
      },
      "source": [
        "drive.mount('/content/gdrive')"
      ],
      "execution_count": 2,
      "outputs": [
        {
          "output_type": "stream",
          "text": [
            "Mounted at /content/gdrive\n"
          ],
          "name": "stdout"
        }
      ]
    },
    {
      "cell_type": "code",
      "metadata": {
        "id": "PO4vhOkSZnb2"
      },
      "source": [
        "import pandas as pd\n",
        "import numpy as np"
      ],
      "execution_count": 3,
      "outputs": []
    },
    {
      "cell_type": "code",
      "metadata": {
        "id": "OXfVHMY0N8XO"
      },
      "source": [
        "df=pd.read_csv(\"/content/gdrive/My Drive/Admission_Predict.csv\")"
      ],
      "execution_count": 4,
      "outputs": []
    },
    {
      "cell_type": "code",
      "metadata": {
        "id": "WXlLZywjZl63",
        "colab": {
          "base_uri": "https://localhost:8080/",
          "height": 195
        },
        "outputId": "c3e78729-bfdc-44d9-c445-1515694cf0ff"
      },
      "source": [
        "df.head()"
      ],
      "execution_count": 5,
      "outputs": [
        {
          "output_type": "execute_result",
          "data": {
            "text/html": [
              "<div>\n",
              "<style scoped>\n",
              "    .dataframe tbody tr th:only-of-type {\n",
              "        vertical-align: middle;\n",
              "    }\n",
              "\n",
              "    .dataframe tbody tr th {\n",
              "        vertical-align: top;\n",
              "    }\n",
              "\n",
              "    .dataframe thead th {\n",
              "        text-align: right;\n",
              "    }\n",
              "</style>\n",
              "<table border=\"1\" class=\"dataframe\">\n",
              "  <thead>\n",
              "    <tr style=\"text-align: right;\">\n",
              "      <th></th>\n",
              "      <th>Serial No.</th>\n",
              "      <th>GRE Score</th>\n",
              "      <th>TOEFL Score</th>\n",
              "      <th>University Rating</th>\n",
              "      <th>SOP</th>\n",
              "      <th>LOR</th>\n",
              "      <th>CGPA</th>\n",
              "      <th>Research</th>\n",
              "      <th>Chance of Admit</th>\n",
              "    </tr>\n",
              "  </thead>\n",
              "  <tbody>\n",
              "    <tr>\n",
              "      <th>0</th>\n",
              "      <td>1</td>\n",
              "      <td>337</td>\n",
              "      <td>118</td>\n",
              "      <td>4</td>\n",
              "      <td>4.5</td>\n",
              "      <td>4.5</td>\n",
              "      <td>9.65</td>\n",
              "      <td>1</td>\n",
              "      <td>0.92</td>\n",
              "    </tr>\n",
              "    <tr>\n",
              "      <th>1</th>\n",
              "      <td>2</td>\n",
              "      <td>324</td>\n",
              "      <td>107</td>\n",
              "      <td>4</td>\n",
              "      <td>4.0</td>\n",
              "      <td>4.5</td>\n",
              "      <td>8.87</td>\n",
              "      <td>1</td>\n",
              "      <td>0.76</td>\n",
              "    </tr>\n",
              "    <tr>\n",
              "      <th>2</th>\n",
              "      <td>3</td>\n",
              "      <td>316</td>\n",
              "      <td>104</td>\n",
              "      <td>3</td>\n",
              "      <td>3.0</td>\n",
              "      <td>3.5</td>\n",
              "      <td>8.00</td>\n",
              "      <td>1</td>\n",
              "      <td>0.72</td>\n",
              "    </tr>\n",
              "    <tr>\n",
              "      <th>3</th>\n",
              "      <td>4</td>\n",
              "      <td>322</td>\n",
              "      <td>110</td>\n",
              "      <td>3</td>\n",
              "      <td>3.5</td>\n",
              "      <td>2.5</td>\n",
              "      <td>8.67</td>\n",
              "      <td>1</td>\n",
              "      <td>0.80</td>\n",
              "    </tr>\n",
              "    <tr>\n",
              "      <th>4</th>\n",
              "      <td>5</td>\n",
              "      <td>314</td>\n",
              "      <td>103</td>\n",
              "      <td>2</td>\n",
              "      <td>2.0</td>\n",
              "      <td>3.0</td>\n",
              "      <td>8.21</td>\n",
              "      <td>0</td>\n",
              "      <td>0.65</td>\n",
              "    </tr>\n",
              "  </tbody>\n",
              "</table>\n",
              "</div>"
            ],
            "text/plain": [
              "   Serial No.  GRE Score  TOEFL Score  ...  CGPA  Research  Chance of Admit \n",
              "0           1        337          118  ...  9.65         1              0.92\n",
              "1           2        324          107  ...  8.87         1              0.76\n",
              "2           3        316          104  ...  8.00         1              0.72\n",
              "3           4        322          110  ...  8.67         1              0.80\n",
              "4           5        314          103  ...  8.21         0              0.65\n",
              "\n",
              "[5 rows x 9 columns]"
            ]
          },
          "metadata": {
            "tags": []
          },
          "execution_count": 5
        }
      ]
    },
    {
      "cell_type": "code",
      "metadata": {
        "id": "yWluBA9MZsWJ"
      },
      "source": [
        "df.drop('Serial No.',axis=1,inplace=True)"
      ],
      "execution_count": 6,
      "outputs": []
    },
    {
      "cell_type": "code",
      "metadata": {
        "id": "l-VUcYX6abCP",
        "colab": {
          "base_uri": "https://localhost:8080/",
          "height": 195
        },
        "outputId": "b65497d2-d0b3-4d99-ef74-dbfaf3f40dbf"
      },
      "source": [
        "df.head()"
      ],
      "execution_count": 7,
      "outputs": [
        {
          "output_type": "execute_result",
          "data": {
            "text/html": [
              "<div>\n",
              "<style scoped>\n",
              "    .dataframe tbody tr th:only-of-type {\n",
              "        vertical-align: middle;\n",
              "    }\n",
              "\n",
              "    .dataframe tbody tr th {\n",
              "        vertical-align: top;\n",
              "    }\n",
              "\n",
              "    .dataframe thead th {\n",
              "        text-align: right;\n",
              "    }\n",
              "</style>\n",
              "<table border=\"1\" class=\"dataframe\">\n",
              "  <thead>\n",
              "    <tr style=\"text-align: right;\">\n",
              "      <th></th>\n",
              "      <th>GRE Score</th>\n",
              "      <th>TOEFL Score</th>\n",
              "      <th>University Rating</th>\n",
              "      <th>SOP</th>\n",
              "      <th>LOR</th>\n",
              "      <th>CGPA</th>\n",
              "      <th>Research</th>\n",
              "      <th>Chance of Admit</th>\n",
              "    </tr>\n",
              "  </thead>\n",
              "  <tbody>\n",
              "    <tr>\n",
              "      <th>0</th>\n",
              "      <td>337</td>\n",
              "      <td>118</td>\n",
              "      <td>4</td>\n",
              "      <td>4.5</td>\n",
              "      <td>4.5</td>\n",
              "      <td>9.65</td>\n",
              "      <td>1</td>\n",
              "      <td>0.92</td>\n",
              "    </tr>\n",
              "    <tr>\n",
              "      <th>1</th>\n",
              "      <td>324</td>\n",
              "      <td>107</td>\n",
              "      <td>4</td>\n",
              "      <td>4.0</td>\n",
              "      <td>4.5</td>\n",
              "      <td>8.87</td>\n",
              "      <td>1</td>\n",
              "      <td>0.76</td>\n",
              "    </tr>\n",
              "    <tr>\n",
              "      <th>2</th>\n",
              "      <td>316</td>\n",
              "      <td>104</td>\n",
              "      <td>3</td>\n",
              "      <td>3.0</td>\n",
              "      <td>3.5</td>\n",
              "      <td>8.00</td>\n",
              "      <td>1</td>\n",
              "      <td>0.72</td>\n",
              "    </tr>\n",
              "    <tr>\n",
              "      <th>3</th>\n",
              "      <td>322</td>\n",
              "      <td>110</td>\n",
              "      <td>3</td>\n",
              "      <td>3.5</td>\n",
              "      <td>2.5</td>\n",
              "      <td>8.67</td>\n",
              "      <td>1</td>\n",
              "      <td>0.80</td>\n",
              "    </tr>\n",
              "    <tr>\n",
              "      <th>4</th>\n",
              "      <td>314</td>\n",
              "      <td>103</td>\n",
              "      <td>2</td>\n",
              "      <td>2.0</td>\n",
              "      <td>3.0</td>\n",
              "      <td>8.21</td>\n",
              "      <td>0</td>\n",
              "      <td>0.65</td>\n",
              "    </tr>\n",
              "  </tbody>\n",
              "</table>\n",
              "</div>"
            ],
            "text/plain": [
              "   GRE Score  TOEFL Score  University Rating  ...  CGPA  Research  Chance of Admit \n",
              "0        337          118                  4  ...  9.65         1              0.92\n",
              "1        324          107                  4  ...  8.87         1              0.76\n",
              "2        316          104                  3  ...  8.00         1              0.72\n",
              "3        322          110                  3  ...  8.67         1              0.80\n",
              "4        314          103                  2  ...  8.21         0              0.65\n",
              "\n",
              "[5 rows x 8 columns]"
            ]
          },
          "metadata": {
            "tags": []
          },
          "execution_count": 7
        }
      ]
    },
    {
      "cell_type": "code",
      "metadata": {
        "id": "rnV4qEA-acSL",
        "colab": {
          "base_uri": "https://localhost:8080/"
        },
        "outputId": "00c175e1-4970-4a25-a645-c2bfa4fcacae"
      },
      "source": [
        "df.shape"
      ],
      "execution_count": 8,
      "outputs": [
        {
          "output_type": "execute_result",
          "data": {
            "text/plain": [
              "(400, 8)"
            ]
          },
          "metadata": {
            "tags": []
          },
          "execution_count": 8
        }
      ]
    },
    {
      "cell_type": "code",
      "metadata": {
        "id": "bQhUMybgaiXf",
        "colab": {
          "base_uri": "https://localhost:8080/"
        },
        "outputId": "5960b213-448b-4a14-85e1-0e6c3bec7b4c"
      },
      "source": [
        "print(df.columns.tolist())"
      ],
      "execution_count": 9,
      "outputs": [
        {
          "output_type": "stream",
          "text": [
            "['GRE Score', 'TOEFL Score', 'University Rating', 'SOP', 'LOR ', 'CGPA', 'Research', 'Chance of Admit ']\n"
          ],
          "name": "stdout"
        }
      ]
    },
    {
      "cell_type": "code",
      "metadata": {
        "id": "HdHjVko8a58G"
      },
      "source": [
        "x=df[['GRE Score', 'TOEFL Score', 'University Rating', 'SOP', 'LOR ', 'CGPA', 'Research']].values"
      ],
      "execution_count": 10,
      "outputs": []
    },
    {
      "cell_type": "code",
      "metadata": {
        "id": "vSuXF5I-Su96"
      },
      "source": [
        "from sklearn.preprocessing import StandardScaler"
      ],
      "execution_count": 11,
      "outputs": []
    },
    {
      "cell_type": "code",
      "metadata": {
        "id": "ZTw837PSdqji"
      },
      "source": [
        "x=StandardScaler().fit_transform(x)"
      ],
      "execution_count": 12,
      "outputs": []
    },
    {
      "cell_type": "code",
      "metadata": {
        "id": "9VDIazmqd3M2",
        "colab": {
          "base_uri": "https://localhost:8080/"
        },
        "outputId": "f22ff1e8-b1b9-42db-e989-7ecb06a1f078"
      },
      "source": [
        "x[0:5]"
      ],
      "execution_count": 13,
      "outputs": [
        {
          "output_type": "execute_result",
          "data": {
            "text/plain": [
              "array([[ 1.76210664,  1.74697064,  0.79882862,  1.09386422,  1.16732114,\n",
              "         1.76481828,  0.90911166],\n",
              "       [ 0.62765641, -0.06763531,  0.79882862,  0.59665321,  1.16732114,\n",
              "         0.45515126,  0.90911166],\n",
              "       [-0.07046681, -0.56252785, -0.07660001, -0.39776881,  0.05293342,\n",
              "        -1.00563118,  0.90911166],\n",
              "       [ 0.4531256 ,  0.42725722, -0.07660001,  0.0994422 , -1.06145431,\n",
              "         0.11933921,  0.90911166],\n",
              "       [-0.24499762, -0.72749202, -0.95202863, -1.39219083, -0.50426044,\n",
              "        -0.65302852, -1.09997489]])"
            ]
          },
          "metadata": {
            "tags": []
          },
          "execution_count": 13
        }
      ]
    },
    {
      "cell_type": "code",
      "metadata": {
        "id": "oRA7OtdMeFlm",
        "colab": {
          "base_uri": "https://localhost:8080/"
        },
        "outputId": "a099643e-ffb9-4e66-d65a-8886e4cc551e"
      },
      "source": [
        "y=df['Chance of Admit '].values\n",
        "y[0:5]"
      ],
      "execution_count": 14,
      "outputs": [
        {
          "output_type": "execute_result",
          "data": {
            "text/plain": [
              "array([0.92, 0.76, 0.72, 0.8 , 0.65])"
            ]
          },
          "metadata": {
            "tags": []
          },
          "execution_count": 14
        }
      ]
    },
    {
      "cell_type": "code",
      "metadata": {
        "id": "_f7FwCDJZkxS",
        "colab": {
          "base_uri": "https://localhost:8080/"
        },
        "outputId": "4ef16573-30ed-48d1-b7ed-cdf13d117949"
      },
      "source": [
        "for i in range(len(y)):\n",
        "  if y[i]<0.5:\n",
        "    y[i]=0\n",
        "  else:\n",
        "    y[i]=1\n",
        "y[0:10]"
      ],
      "execution_count": 15,
      "outputs": [
        {
          "output_type": "execute_result",
          "data": {
            "text/plain": [
              "array([1., 1., 1., 1., 1., 1., 1., 1., 1., 0.])"
            ]
          },
          "metadata": {
            "tags": []
          },
          "execution_count": 15
        }
      ]
    },
    {
      "cell_type": "code",
      "metadata": {
        "id": "7wpWKP6IloUB"
      },
      "source": [
        "x=x.T"
      ],
      "execution_count": 16,
      "outputs": []
    },
    {
      "cell_type": "code",
      "metadata": {
        "id": "ch9gz9LgVrOI",
        "colab": {
          "base_uri": "https://localhost:8080/"
        },
        "outputId": "3bfb0ed6-9631-4b8e-c806-0451fab5bc93"
      },
      "source": [
        "x.shape"
      ],
      "execution_count": 17,
      "outputs": [
        {
          "output_type": "execute_result",
          "data": {
            "text/plain": [
              "(7, 400)"
            ]
          },
          "metadata": {
            "tags": []
          },
          "execution_count": 17
        }
      ]
    },
    {
      "cell_type": "code",
      "metadata": {
        "id": "HunTeo35dIUp"
      },
      "source": [
        "def sigmoid(z):\n",
        "  s=1/(1+np.exp(-z))\n",
        "  return s"
      ],
      "execution_count": 18,
      "outputs": []
    },
    {
      "cell_type": "code",
      "metadata": {
        "id": "U9H27J2seQ9o"
      },
      "source": [
        "def initwb(dim):\n",
        "  w=np.zeros(shape=(dim,1))\n",
        "  b=0\n",
        "  return w,b"
      ],
      "execution_count": 19,
      "outputs": []
    },
    {
      "cell_type": "code",
      "metadata": {
        "id": "ZPCDqbKgaujD"
      },
      "source": [
        "def propagate(w,b,x,y):\n",
        "  m=x.shape[1]\n",
        "  z=np.dot(w.T,x)+b\n",
        "  a=sigmoid(z)\n",
        "  cost=(-1/m)*np.sum(np.log(a)*y + np.log(1-a)*(1-y))\n",
        "  dz=a-y\n",
        "  dw=(1/m)*(np.dot(x,dz.T))\n",
        "  db=(1/m)*np.sum(dz)\n",
        "  grads={'dw':dw,'db':db}\n",
        "  return cost,grads"
      ],
      "execution_count": 20,
      "outputs": []
    },
    {
      "cell_type": "code",
      "metadata": {
        "id": "1Sjj3d8xZh_0"
      },
      "source": [
        "def optimise(w,b,x,y,noofiter,learnrate):\n",
        "  costs=[]\n",
        "  for i in range(noofiter):\n",
        "    cost,grads=propagate(w,b,x,y)\n",
        "    dw=grads['dw']\n",
        "    db=grads['db']\n",
        "    w=w-learnrate*dw\n",
        "    b=b-learnrate*db\n",
        "    costs.append(cost)\n",
        "  grads={'dw':dw,'db':db}\n",
        "  props={'w':w,'b':b}\n",
        "  return costs,grads,props"
      ],
      "execution_count": 21,
      "outputs": []
    },
    {
      "cell_type": "code",
      "metadata": {
        "id": "DR51qi7lbAvB"
      },
      "source": [
        "def predict(w,b,x):\n",
        "  yhat=np.zeros(shape=(x.shape[1]))\n",
        "  a=sigmoid(np.dot(w.T,x)+b)\n",
        "  for i in range(a.shape[1]):\n",
        "    if(a[0][i]>0.5):\n",
        "      yhat[i]=1\n",
        "    else:\n",
        "      yhat[i]=0\n",
        "  #  yhat[i]=a[0][i]\n",
        "  return yhat"
      ],
      "execution_count": 22,
      "outputs": []
    },
    {
      "cell_type": "code",
      "metadata": {
        "id": "w2LpRvq7e1WM"
      },
      "source": [
        "from sklearn.metrics import accuracy_score"
      ],
      "execution_count": 23,
      "outputs": []
    },
    {
      "cell_type": "code",
      "metadata": {
        "id": "7aKY025ddMIB"
      },
      "source": [
        "scores={}\n",
        "def final(learnrate):\n",
        "  w,b=initwb(x.shape[0])\n",
        "  cost,grads=propagate(w,b,x,y)\n",
        "  costs,grads,props=optimise(w,b,x,y,1000,learnrate)\n",
        "  w=props['w']\n",
        "  b=props['b']\n",
        "  yhat=predict(w,b,x)\n",
        "  scores[learnrate]=(accuracy_score(y,yhat))\n",
        "for i in [10,1,0.1,0.01,0.001,0.001]:\n",
        "  final(i)"
      ],
      "execution_count": 24,
      "outputs": []
    },
    {
      "cell_type": "code",
      "metadata": {
        "id": "g9iPTaCmkOrK",
        "colab": {
          "base_uri": "https://localhost:8080/"
        },
        "outputId": "77f482e2-498e-408f-a179-abebd6dd1d41"
      },
      "source": [
        "print(scores)"
      ],
      "execution_count": 25,
      "outputs": [
        {
          "output_type": "stream",
          "text": [
            "{10: 0.905, 1: 0.9475, 0.1: 0.945, 0.01: 0.9275, 0.001: 0.8975}\n"
          ],
          "name": "stdout"
        }
      ]
    },
    {
      "cell_type": "code",
      "metadata": {
        "id": "x9g40IEzrNPX"
      },
      "source": [
        "w,b=initwb(x.shape[0])\n",
        "cost,grads=propagate(w,b,x,y)\n",
        "costs,grads,props=optimise(w,b,x,y,100,1)\n",
        "w=props['w']\n",
        "b=props['b']\n",
        "yhat=predict(w,b,x)"
      ],
      "execution_count": 31,
      "outputs": []
    },
    {
      "cell_type": "code",
      "metadata": {
        "id": "7_LcuxCIe90m",
        "colab": {
          "base_uri": "https://localhost:8080/"
        },
        "outputId": "048eff23-948e-42da-dd0f-e1cee736a3e8"
      },
      "source": [
        "accuracy_score(y,yhat)"
      ],
      "execution_count": 32,
      "outputs": [
        {
          "output_type": "execute_result",
          "data": {
            "text/plain": [
              "0.945"
            ]
          },
          "metadata": {
            "tags": []
          },
          "execution_count": 32
        }
      ]
    },
    {
      "cell_type": "code",
      "metadata": {
        "id": "b6T0x5UgmAGp"
      },
      "source": [
        "import matplotlib.pyplot as plt\n",
        "%matplotlib inline"
      ],
      "execution_count": 34,
      "outputs": []
    },
    {
      "cell_type": "code",
      "metadata": {
        "id": "kPJGr162lU21",
        "colab": {
          "base_uri": "https://localhost:8080/",
          "height": 265
        },
        "outputId": "e216ed6d-834b-47d0-9ee4-edd23b595c28"
      },
      "source": [
        "plt.plot(costs)\n",
        "plt.show()"
      ],
      "execution_count": 36,
      "outputs": [
        {
          "output_type": "display_data",
          "data": {
            "image/png": "[encoded data removed]",
            "text/plain": [
              "<Figure size 432x288 with 1 Axes>"
            ]
          },
          "metadata": {
            "tags": [],
            "needs_background": "light"
          }
        }
      ]
    },
    {
      "cell_type": "code",
      "metadata": {
        "id": "02YglLtPqjg_"
      },
      "source": [
        "from sklearn.linear_model import LogisticRegression"
      ],
      "execution_count": 37,
      "outputs": []
    },
    {
      "cell_type": "markdown",
      "metadata": {
        "id": "tm72Y8jgygTp"
      },
      "source": [
        "#Cross checking with preloaded libraries"
      ]
    },
    {
      "cell_type": "code",
      "metadata": {
        "id": "jHn3SCz1sNG7"
      },
      "source": [
        "lr=LogisticRegression()"
      ],
      "execution_count": 38,
      "outputs": []
    },
    {
      "cell_type": "code",
      "metadata": {
        "id": "-Q21gKSPsO83",
        "colab": {
          "base_uri": "https://localhost:8080/"
        },
        "outputId": "994b8bb8-698d-48df-a5a6-5cc69eb2448b"
      },
      "source": [
        "lr.fit(x.T,y)"
      ],
      "execution_count": 42,
      "outputs": [
        {
          "output_type": "execute_result",
          "data": {
            "text/plain": [
              "LogisticRegression(C=1.0, class_weight=None, dual=False, fit_intercept=True,\n",
              "                   intercept_scaling=1, l1_ratio=None, max_iter=100,\n",
              "                   multi_class='auto', n_jobs=None, penalty='l2',\n",
              "                   random_state=None, solver='lbfgs', tol=0.0001, verbose=0,\n",
              "                   warm_start=False)"
            ]
          },
          "metadata": {
            "tags": []
          },
          "execution_count": 42
        }
      ]
    },
    {
      "cell_type": "code",
      "metadata": {
        "id": "yQK0DRCGs9Af"
      },
      "source": [
        "yhat=lr.predict(x.T)"
      ],
      "execution_count": 44,
      "outputs": []
    },
    {
      "cell_type": "code",
      "metadata": {
        "id": "apcRpzXOtCel",
        "colab": {
          "base_uri": "https://localhost:8080/"
        },
        "outputId": "6e0ceaf0-7d55-4ef5-831c-b77e877e9dc9"
      },
      "source": [
        "accuracy_score(y,yhat)"
      ],
      "execution_count": 45,
      "outputs": [
        {
          "output_type": "execute_result",
          "data": {
            "text/plain": [
              "0.9475"
            ]
          },
          "metadata": {
            "tags": []
          },
          "execution_count": 45
        }
      ]
    }
  ]
}