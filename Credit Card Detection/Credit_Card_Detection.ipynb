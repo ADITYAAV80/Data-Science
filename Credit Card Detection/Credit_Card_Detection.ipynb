{
  "nbformat": 4,
  "nbformat_minor": 0,
  "metadata": {
    "colab": {
      "name": "Credit Card Detection.ipynb",
      "provenance": []
    },
    "kernelspec": {
      "name": "python3",
      "display_name": "Python 3"
    }
  },
  "cells": [
    {
      "cell_type": "code",
      "metadata": {
        "id": "El7v4pvggutT"
      },
      "source": [
        "import tensorflow as tf \n",
        "import numpy as np\n",
        "import pandas as pd\n",
        "import matplotlib.pyplot as plt \n",
        "%matplotlib inline"
      ],
      "execution_count": null,
      "outputs": []
    },
    {
      "cell_type": "code",
      "metadata": {
        "id": "kRzACmq0g4RM"
      },
      "source": [
        "from tensorflow.keras.layers import Conv1D,MaxPool1D,Dropout,BatchNormalization,Flatten,Dense\n",
        "from tensorflow.keras.models import Sequential\n",
        "from sklearn.model_selection import train_test_split\n",
        "from sklearn.preprocessing import StandardScaler\n",
        "from sklearn import datasets,metrics"
      ],
      "execution_count": null,
      "outputs": []
    },
    {
      "cell_type": "code",
      "metadata": {
        "colab": {
          "base_uri": "https://localhost:8080/"
        },
        "id": "hWG-yI_rg4ss",
        "outputId": "999b4a78-c100-4c6c-a148-007bfdf4a71d"
      },
      "source": [
        "from google.colab import drive\n",
        "drive.mount('/content/gdrive/')"
      ],
      "execution_count": null,
      "outputs": [
        {
          "output_type": "stream",
          "text": [
            "Mounted at /content/gdrive/\n"
          ],
          "name": "stdout"
        }
      ]
    },
    {
      "cell_type": "code",
      "metadata": {
        "colab": {
          "base_uri": "https://localhost:8080/",
          "height": 215
        },
        "id": "bgTqLfMng8gu",
        "outputId": "5d32590b-8d6b-438f-c3f5-17b5b5388626"
      },
      "source": [
        "df=pd.read_csv('/content/gdrive/My Drive/creditcard.csv')\n",
        "df.head()"
      ],
      "execution_count": null,
      "outputs": [
        {
          "output_type": "execute_result",
          "data": {
            "text/html": [
              "<div>\n",
              "<style scoped>\n",
              "    .dataframe tbody tr th:only-of-type {\n",
              "        vertical-align: middle;\n",
              "    }\n",
              "\n",
              "    .dataframe tbody tr th {\n",
              "        vertical-align: top;\n",
              "    }\n",
              "\n",
              "    .dataframe thead th {\n",
              "        text-align: right;\n",
              "    }\n",
              "</style>\n",
              "<table border=\"1\" class=\"dataframe\">\n",
              "  <thead>\n",
              "    <tr style=\"text-align: right;\">\n",
              "      <th></th>\n",
              "      <th>Time</th>\n",
              "      <th>V1</th>\n",
              "      <th>V2</th>\n",
              "      <th>V3</th>\n",
              "      <th>V4</th>\n",
              "      <th>V5</th>\n",
              "      <th>V6</th>\n",
              "      <th>V7</th>\n",
              "      <th>V8</th>\n",
              "      <th>V9</th>\n",
              "      <th>V10</th>\n",
              "      <th>V11</th>\n",
              "      <th>V12</th>\n",
              "      <th>V13</th>\n",
              "      <th>V14</th>\n",
              "      <th>V15</th>\n",
              "      <th>V16</th>\n",
              "      <th>V17</th>\n",
              "      <th>V18</th>\n",
              "      <th>V19</th>\n",
              "      <th>V20</th>\n",
              "      <th>V21</th>\n",
              "      <th>V22</th>\n",
              "      <th>V23</th>\n",
              "      <th>V24</th>\n",
              "      <th>V25</th>\n",
              "      <th>V26</th>\n",
              "      <th>V27</th>\n",
              "      <th>V28</th>\n",
              "      <th>Amount</th>\n",
              "      <th>Class</th>\n",
              "    </tr>\n",
              "  </thead>\n",
              "  <tbody>\n",
              "    <tr>\n",
              "      <th>0</th>\n",
              "      <td>0.0</td>\n",
              "      <td>-1.359807</td>\n",
              "      <td>-0.072781</td>\n",
              "      <td>2.536347</td>\n",
              "      <td>1.378155</td>\n",
              "      <td>-0.338321</td>\n",
              "      <td>0.462388</td>\n",
              "      <td>0.239599</td>\n",
              "      <td>0.098698</td>\n",
              "      <td>0.363787</td>\n",
              "      <td>0.090794</td>\n",
              "      <td>-0.551600</td>\n",
              "      <td>-0.617801</td>\n",
              "      <td>-0.991390</td>\n",
              "      <td>-0.311169</td>\n",
              "      <td>1.468177</td>\n",
              "      <td>-0.470401</td>\n",
              "      <td>0.207971</td>\n",
              "      <td>0.025791</td>\n",
              "      <td>0.403993</td>\n",
              "      <td>0.251412</td>\n",
              "      <td>-0.018307</td>\n",
              "      <td>0.277838</td>\n",
              "      <td>-0.110474</td>\n",
              "      <td>0.066928</td>\n",
              "      <td>0.128539</td>\n",
              "      <td>-0.189115</td>\n",
              "      <td>0.133558</td>\n",
              "      <td>-0.021053</td>\n",
              "      <td>149.62</td>\n",
              "      <td>0</td>\n",
              "    </tr>\n",
              "    <tr>\n",
              "      <th>1</th>\n",
              "      <td>0.0</td>\n",
              "      <td>1.191857</td>\n",
              "      <td>0.266151</td>\n",
              "      <td>0.166480</td>\n",
              "      <td>0.448154</td>\n",
              "      <td>0.060018</td>\n",
              "      <td>-0.082361</td>\n",
              "      <td>-0.078803</td>\n",
              "      <td>0.085102</td>\n",
              "      <td>-0.255425</td>\n",
              "      <td>-0.166974</td>\n",
              "      <td>1.612727</td>\n",
              "      <td>1.065235</td>\n",
              "      <td>0.489095</td>\n",
              "      <td>-0.143772</td>\n",
              "      <td>0.635558</td>\n",
              "      <td>0.463917</td>\n",
              "      <td>-0.114805</td>\n",
              "      <td>-0.183361</td>\n",
              "      <td>-0.145783</td>\n",
              "      <td>-0.069083</td>\n",
              "      <td>-0.225775</td>\n",
              "      <td>-0.638672</td>\n",
              "      <td>0.101288</td>\n",
              "      <td>-0.339846</td>\n",
              "      <td>0.167170</td>\n",
              "      <td>0.125895</td>\n",
              "      <td>-0.008983</td>\n",
              "      <td>0.014724</td>\n",
              "      <td>2.69</td>\n",
              "      <td>0</td>\n",
              "    </tr>\n",
              "    <tr>\n",
              "      <th>2</th>\n",
              "      <td>1.0</td>\n",
              "      <td>-1.358354</td>\n",
              "      <td>-1.340163</td>\n",
              "      <td>1.773209</td>\n",
              "      <td>0.379780</td>\n",
              "      <td>-0.503198</td>\n",
              "      <td>1.800499</td>\n",
              "      <td>0.791461</td>\n",
              "      <td>0.247676</td>\n",
              "      <td>-1.514654</td>\n",
              "      <td>0.207643</td>\n",
              "      <td>0.624501</td>\n",
              "      <td>0.066084</td>\n",
              "      <td>0.717293</td>\n",
              "      <td>-0.165946</td>\n",
              "      <td>2.345865</td>\n",
              "      <td>-2.890083</td>\n",
              "      <td>1.109969</td>\n",
              "      <td>-0.121359</td>\n",
              "      <td>-2.261857</td>\n",
              "      <td>0.524980</td>\n",
              "      <td>0.247998</td>\n",
              "      <td>0.771679</td>\n",
              "      <td>0.909412</td>\n",
              "      <td>-0.689281</td>\n",
              "      <td>-0.327642</td>\n",
              "      <td>-0.139097</td>\n",
              "      <td>-0.055353</td>\n",
              "      <td>-0.059752</td>\n",
              "      <td>378.66</td>\n",
              "      <td>0</td>\n",
              "    </tr>\n",
              "    <tr>\n",
              "      <th>3</th>\n",
              "      <td>1.0</td>\n",
              "      <td>-0.966272</td>\n",
              "      <td>-0.185226</td>\n",
              "      <td>1.792993</td>\n",
              "      <td>-0.863291</td>\n",
              "      <td>-0.010309</td>\n",
              "      <td>1.247203</td>\n",
              "      <td>0.237609</td>\n",
              "      <td>0.377436</td>\n",
              "      <td>-1.387024</td>\n",
              "      <td>-0.054952</td>\n",
              "      <td>-0.226487</td>\n",
              "      <td>0.178228</td>\n",
              "      <td>0.507757</td>\n",
              "      <td>-0.287924</td>\n",
              "      <td>-0.631418</td>\n",
              "      <td>-1.059647</td>\n",
              "      <td>-0.684093</td>\n",
              "      <td>1.965775</td>\n",
              "      <td>-1.232622</td>\n",
              "      <td>-0.208038</td>\n",
              "      <td>-0.108300</td>\n",
              "      <td>0.005274</td>\n",
              "      <td>-0.190321</td>\n",
              "      <td>-1.175575</td>\n",
              "      <td>0.647376</td>\n",
              "      <td>-0.221929</td>\n",
              "      <td>0.062723</td>\n",
              "      <td>0.061458</td>\n",
              "      <td>123.50</td>\n",
              "      <td>0</td>\n",
              "    </tr>\n",
              "    <tr>\n",
              "      <th>4</th>\n",
              "      <td>2.0</td>\n",
              "      <td>-1.158233</td>\n",
              "      <td>0.877737</td>\n",
              "      <td>1.548718</td>\n",
              "      <td>0.403034</td>\n",
              "      <td>-0.407193</td>\n",
              "      <td>0.095921</td>\n",
              "      <td>0.592941</td>\n",
              "      <td>-0.270533</td>\n",
              "      <td>0.817739</td>\n",
              "      <td>0.753074</td>\n",
              "      <td>-0.822843</td>\n",
              "      <td>0.538196</td>\n",
              "      <td>1.345852</td>\n",
              "      <td>-1.119670</td>\n",
              "      <td>0.175121</td>\n",
              "      <td>-0.451449</td>\n",
              "      <td>-0.237033</td>\n",
              "      <td>-0.038195</td>\n",
              "      <td>0.803487</td>\n",
              "      <td>0.408542</td>\n",
              "      <td>-0.009431</td>\n",
              "      <td>0.798278</td>\n",
              "      <td>-0.137458</td>\n",
              "      <td>0.141267</td>\n",
              "      <td>-0.206010</td>\n",
              "      <td>0.502292</td>\n",
              "      <td>0.219422</td>\n",
              "      <td>0.215153</td>\n",
              "      <td>69.99</td>\n",
              "      <td>0</td>\n",
              "    </tr>\n",
              "  </tbody>\n",
              "</table>\n",
              "</div>"
            ],
            "text/plain": [
              "   Time        V1        V2        V3  ...       V27       V28  Amount  Class\n",
              "0   0.0 -1.359807 -0.072781  2.536347  ...  0.133558 -0.021053  149.62      0\n",
              "1   0.0  1.191857  0.266151  0.166480  ... -0.008983  0.014724    2.69      0\n",
              "2   1.0 -1.358354 -1.340163  1.773209  ... -0.055353 -0.059752  378.66      0\n",
              "3   1.0 -0.966272 -0.185226  1.792993  ...  0.062723  0.061458  123.50      0\n",
              "4   2.0 -1.158233  0.877737  1.548718  ...  0.219422  0.215153   69.99      0\n",
              "\n",
              "[5 rows x 31 columns]"
            ]
          },
          "metadata": {
            "tags": []
          },
          "execution_count": 4
        }
      ]
    },
    {
      "cell_type": "code",
      "metadata": {
        "colab": {
          "base_uri": "https://localhost:8080/"
        },
        "id": "nNQIpYtmhHLN",
        "outputId": "752a4560-f1da-430c-df8c-b3298a57d16f"
      },
      "source": [
        "df.shape"
      ],
      "execution_count": null,
      "outputs": [
        {
          "output_type": "execute_result",
          "data": {
            "text/plain": [
              "(284807, 31)"
            ]
          },
          "metadata": {
            "tags": []
          },
          "execution_count": 5
        }
      ]
    },
    {
      "cell_type": "code",
      "metadata": {
        "colab": {
          "base_uri": "https://localhost:8080/"
        },
        "id": "12jkciOihLMG",
        "outputId": "69181cbe-867a-4af0-af5c-2491205682cb"
      },
      "source": [
        "md=df.isnull()\n",
        "for col in df.columns.tolist():\n",
        "  print(col)\n",
        "  print(md[col].value_counts())\n",
        "  print()"
      ],
      "execution_count": null,
      "outputs": [
        {
          "output_type": "stream",
          "text": [
            "Time\n",
            "False    284807\n",
            "Name: Time, dtype: int64\n",
            "\n",
            "V1\n",
            "False    284807\n",
            "Name: V1, dtype: int64\n",
            "\n",
            "V2\n",
            "False    284807\n",
            "Name: V2, dtype: int64\n",
            "\n",
            "V3\n",
            "False    284807\n",
            "Name: V3, dtype: int64\n",
            "\n",
            "V4\n",
            "False    284807\n",
            "Name: V4, dtype: int64\n",
            "\n",
            "V5\n",
            "False    284807\n",
            "Name: V5, dtype: int64\n",
            "\n",
            "V6\n",
            "False    284807\n",
            "Name: V6, dtype: int64\n",
            "\n",
            "V7\n",
            "False    284807\n",
            "Name: V7, dtype: int64\n",
            "\n",
            "V8\n",
            "False    284807\n",
            "Name: V8, dtype: int64\n",
            "\n",
            "V9\n",
            "False    284807\n",
            "Name: V9, dtype: int64\n",
            "\n",
            "V10\n",
            "False    284807\n",
            "Name: V10, dtype: int64\n",
            "\n",
            "V11\n",
            "False    284807\n",
            "Name: V11, dtype: int64\n",
            "\n",
            "V12\n",
            "False    284807\n",
            "Name: V12, dtype: int64\n",
            "\n",
            "V13\n",
            "False    284807\n",
            "Name: V13, dtype: int64\n",
            "\n",
            "V14\n",
            "False    284807\n",
            "Name: V14, dtype: int64\n",
            "\n",
            "V15\n",
            "False    284807\n",
            "Name: V15, dtype: int64\n",
            "\n",
            "V16\n",
            "False    284807\n",
            "Name: V16, dtype: int64\n",
            "\n",
            "V17\n",
            "False    284807\n",
            "Name: V17, dtype: int64\n",
            "\n",
            "V18\n",
            "False    284807\n",
            "Name: V18, dtype: int64\n",
            "\n",
            "V19\n",
            "False    284807\n",
            "Name: V19, dtype: int64\n",
            "\n",
            "V20\n",
            "False    284807\n",
            "Name: V20, dtype: int64\n",
            "\n",
            "V21\n",
            "False    284807\n",
            "Name: V21, dtype: int64\n",
            "\n",
            "V22\n",
            "False    284807\n",
            "Name: V22, dtype: int64\n",
            "\n",
            "V23\n",
            "False    284807\n",
            "Name: V23, dtype: int64\n",
            "\n",
            "V24\n",
            "False    284807\n",
            "Name: V24, dtype: int64\n",
            "\n",
            "V25\n",
            "False    284807\n",
            "Name: V25, dtype: int64\n",
            "\n",
            "V26\n",
            "False    284807\n",
            "Name: V26, dtype: int64\n",
            "\n",
            "V27\n",
            "False    284807\n",
            "Name: V27, dtype: int64\n",
            "\n",
            "V28\n",
            "False    284807\n",
            "Name: V28, dtype: int64\n",
            "\n",
            "Amount\n",
            "False    284807\n",
            "Name: Amount, dtype: int64\n",
            "\n",
            "Class\n",
            "False    284807\n",
            "Name: Class, dtype: int64\n",
            "\n"
          ],
          "name": "stdout"
        }
      ]
    },
    {
      "cell_type": "code",
      "metadata": {
        "colab": {
          "base_uri": "https://localhost:8080/"
        },
        "id": "ouZZ8OfBhNC0",
        "outputId": "4ac97686-c3b5-4fbc-df4b-8490f4ed03ab"
      },
      "source": [
        "fraud=df[df['Class']==1]\n",
        "non_fraud=df[df['Class']==0]\n",
        "print(fraud.shape,non_fraud.shape)"
      ],
      "execution_count": null,
      "outputs": [
        {
          "output_type": "stream",
          "text": [
            "(492, 31) (284315, 31)\n"
          ],
          "name": "stdout"
        }
      ]
    },
    {
      "cell_type": "code",
      "metadata": {
        "colab": {
          "base_uri": "https://localhost:8080/"
        },
        "id": "fOATKbDOhP1L",
        "outputId": "c574d47f-a2e6-4a02-8944-4ed7acf2b000"
      },
      "source": [
        "non_fraud=non_fraud.sample(fraud.shape[0])\n",
        "print(fraud.shape,non_fraud.shape)"
      ],
      "execution_count": null,
      "outputs": [
        {
          "output_type": "stream",
          "text": [
            "(492, 31) (492, 31)\n"
          ],
          "name": "stdout"
        }
      ]
    },
    {
      "cell_type": "code",
      "metadata": {
        "id": "smvF9df1hRjA"
      },
      "source": [
        "new_df=fraud.append(non_fraud,ignore_index=True)"
      ],
      "execution_count": null,
      "outputs": []
    },
    {
      "cell_type": "code",
      "metadata": {
        "id": "7WMF7zTYhTjc"
      },
      "source": [
        "x=new_df.drop(['Class'],axis=1)\n",
        "y=new_df['Class']"
      ],
      "execution_count": null,
      "outputs": []
    },
    {
      "cell_type": "code",
      "metadata": {
        "id": "05tXAnFwhWNO"
      },
      "source": [
        "x_train,x_test,y_train,y_test=train_test_split(x,y,test_size=0.2,stratify=y)"
      ],
      "execution_count": null,
      "outputs": []
    },
    {
      "cell_type": "code",
      "metadata": {
        "id": "5UiVXceThYPL"
      },
      "source": [
        "x_train=StandardScaler().fit_transform(x_train)\n",
        "x_test=StandardScaler().fit_transform(x_test)"
      ],
      "execution_count": null,
      "outputs": []
    },
    {
      "cell_type": "code",
      "metadata": {
        "id": "YIrpBhMphbSZ"
      },
      "source": [
        "x_train=x_train.reshape(x_train.shape[0],x_test.shape[1],1)\n",
        "x_test=x_test.reshape(x_test.shape[0],x_test.shape[1],1)"
      ],
      "execution_count": null,
      "outputs": []
    },
    {
      "cell_type": "code",
      "metadata": {
        "id": "xWJW1GWNhdfR"
      },
      "source": [
        "model=Sequential()\n",
        "model.add(Conv1D(32,2,activation='relu',input_shape=(x_train[0].shape)))\n",
        "model.add(BatchNormalization())\n",
        "model.add(MaxPool1D(2))\n",
        "model.add(Dropout(0.25))\n",
        "model.add(Conv1D(64,2,activation='relu'))\n",
        "model.add(BatchNormalization())\n",
        "model.add(MaxPool1D(2))\n",
        "model.add(Dropout(0.25))\n",
        "model.add(Flatten())\n",
        "model.add(Dense(64,activation='relu'))\n",
        "model.add(BatchNormalization())\n",
        "model.add(Dropout(0.5))\n",
        "model.add(Dense(1,activation='sigmoid'))"
      ],
      "execution_count": null,
      "outputs": []
    },
    {
      "cell_type": "code",
      "metadata": {
        "id": "Oi3J04s1hhEK"
      },
      "source": [
        "model.compile(optimizer='adam',loss=tf.keras.losses.binary_crossentropy,metrics=['accuracy'])"
      ],
      "execution_count": null,
      "outputs": []
    },
    {
      "cell_type": "code",
      "metadata": {
        "colab": {
          "base_uri": "https://localhost:8080/"
        },
        "id": "4HfREheqhix0",
        "outputId": "3939b4d3-5d1c-4b09-d8c2-b015a758c8c4"
      },
      "source": [
        "history=model.fit(x_train,y_train,epochs=50,validation_data=(x_test,y_test))"
      ],
      "execution_count": null,
      "outputs": [
        {
          "output_type": "stream",
          "text": [
            "Epoch 1/50\n",
            "25/25 [==============================] - 0s 14ms/step - loss: 0.5049 - accuracy: 0.7764 - val_loss: 0.5167 - val_accuracy: 0.8680\n",
            "Epoch 2/50\n",
            "25/25 [==============================] - 0s 5ms/step - loss: 0.3117 - accuracy: 0.8882 - val_loss: 0.4927 - val_accuracy: 0.9391\n",
            "Epoch 3/50\n",
            "25/25 [==============================] - 0s 5ms/step - loss: 0.2790 - accuracy: 0.9136 - val_loss: 0.4600 - val_accuracy: 0.9340\n",
            "Epoch 4/50\n",
            "25/25 [==============================] - 0s 5ms/step - loss: 0.2319 - accuracy: 0.9161 - val_loss: 0.4353 - val_accuracy: 0.9086\n",
            "Epoch 5/50\n",
            "25/25 [==============================] - 0s 5ms/step - loss: 0.2414 - accuracy: 0.9174 - val_loss: 0.4074 - val_accuracy: 0.8832\n",
            "Epoch 6/50\n",
            "25/25 [==============================] - 0s 5ms/step - loss: 0.2224 - accuracy: 0.9149 - val_loss: 0.3497 - val_accuracy: 0.9239\n",
            "Epoch 7/50\n",
            "25/25 [==============================] - 0s 5ms/step - loss: 0.2246 - accuracy: 0.9314 - val_loss: 0.3192 - val_accuracy: 0.9239\n",
            "Epoch 8/50\n",
            "25/25 [==============================] - 0s 6ms/step - loss: 0.2377 - accuracy: 0.9111 - val_loss: 0.2829 - val_accuracy: 0.9442\n",
            "Epoch 9/50\n",
            "25/25 [==============================] - 0s 5ms/step - loss: 0.2344 - accuracy: 0.9199 - val_loss: 0.2681 - val_accuracy: 0.9492\n",
            "Epoch 10/50\n",
            "25/25 [==============================] - 0s 5ms/step - loss: 0.2020 - accuracy: 0.9327 - val_loss: 0.2369 - val_accuracy: 0.9543\n",
            "Epoch 11/50\n",
            "25/25 [==============================] - 0s 5ms/step - loss: 0.2279 - accuracy: 0.9199 - val_loss: 0.2193 - val_accuracy: 0.9442\n",
            "Epoch 12/50\n",
            "25/25 [==============================] - 0s 5ms/step - loss: 0.2036 - accuracy: 0.9187 - val_loss: 0.2054 - val_accuracy: 0.9543\n",
            "Epoch 13/50\n",
            "25/25 [==============================] - 0s 6ms/step - loss: 0.2023 - accuracy: 0.9263 - val_loss: 0.1942 - val_accuracy: 0.9543\n",
            "Epoch 14/50\n",
            "25/25 [==============================] - 0s 5ms/step - loss: 0.1881 - accuracy: 0.9352 - val_loss: 0.1882 - val_accuracy: 0.9492\n",
            "Epoch 15/50\n",
            "25/25 [==============================] - 0s 5ms/step - loss: 0.1978 - accuracy: 0.9250 - val_loss: 0.1808 - val_accuracy: 0.9543\n",
            "Epoch 16/50\n",
            "25/25 [==============================] - 0s 5ms/step - loss: 0.1888 - accuracy: 0.9288 - val_loss: 0.1833 - val_accuracy: 0.9492\n",
            "Epoch 17/50\n",
            "25/25 [==============================] - 0s 5ms/step - loss: 0.1831 - accuracy: 0.9339 - val_loss: 0.1752 - val_accuracy: 0.9492\n",
            "Epoch 18/50\n",
            "25/25 [==============================] - 0s 5ms/step - loss: 0.1969 - accuracy: 0.9301 - val_loss: 0.1755 - val_accuracy: 0.9442\n",
            "Epoch 19/50\n",
            "25/25 [==============================] - 0s 4ms/step - loss: 0.1752 - accuracy: 0.9339 - val_loss: 0.1740 - val_accuracy: 0.9492\n",
            "Epoch 20/50\n",
            "25/25 [==============================] - 0s 5ms/step - loss: 0.1666 - accuracy: 0.9377 - val_loss: 0.1718 - val_accuracy: 0.9492\n",
            "Epoch 21/50\n",
            "25/25 [==============================] - 0s 5ms/step - loss: 0.1643 - accuracy: 0.9416 - val_loss: 0.1726 - val_accuracy: 0.9492\n",
            "Epoch 22/50\n",
            "25/25 [==============================] - 0s 5ms/step - loss: 0.1612 - accuracy: 0.9403 - val_loss: 0.1761 - val_accuracy: 0.9492\n",
            "Epoch 23/50\n",
            "25/25 [==============================] - 0s 5ms/step - loss: 0.1623 - accuracy: 0.9428 - val_loss: 0.1779 - val_accuracy: 0.9543\n",
            "Epoch 24/50\n",
            "25/25 [==============================] - 0s 5ms/step - loss: 0.1578 - accuracy: 0.9428 - val_loss: 0.1708 - val_accuracy: 0.9543\n",
            "Epoch 25/50\n",
            "25/25 [==============================] - 0s 5ms/step - loss: 0.1611 - accuracy: 0.9479 - val_loss: 0.1793 - val_accuracy: 0.9543\n",
            "Epoch 26/50\n",
            "25/25 [==============================] - 0s 5ms/step - loss: 0.1456 - accuracy: 0.9428 - val_loss: 0.1802 - val_accuracy: 0.9492\n",
            "Epoch 27/50\n",
            "25/25 [==============================] - 0s 5ms/step - loss: 0.1426 - accuracy: 0.9492 - val_loss: 0.1824 - val_accuracy: 0.9442\n",
            "Epoch 28/50\n",
            "25/25 [==============================] - 0s 5ms/step - loss: 0.1469 - accuracy: 0.9454 - val_loss: 0.1785 - val_accuracy: 0.9442\n",
            "Epoch 29/50\n",
            "25/25 [==============================] - 0s 5ms/step - loss: 0.1314 - accuracy: 0.9466 - val_loss: 0.1862 - val_accuracy: 0.9543\n",
            "Epoch 30/50\n",
            "25/25 [==============================] - 0s 5ms/step - loss: 0.1592 - accuracy: 0.9428 - val_loss: 0.1789 - val_accuracy: 0.9543\n",
            "Epoch 31/50\n",
            "25/25 [==============================] - 0s 5ms/step - loss: 0.1905 - accuracy: 0.9327 - val_loss: 0.1781 - val_accuracy: 0.9492\n",
            "Epoch 32/50\n",
            "25/25 [==============================] - 0s 5ms/step - loss: 0.1657 - accuracy: 0.9479 - val_loss: 0.1742 - val_accuracy: 0.9492\n",
            "Epoch 33/50\n",
            "25/25 [==============================] - 0s 5ms/step - loss: 0.1558 - accuracy: 0.9365 - val_loss: 0.1747 - val_accuracy: 0.9442\n",
            "Epoch 34/50\n",
            "25/25 [==============================] - 0s 5ms/step - loss: 0.1412 - accuracy: 0.9504 - val_loss: 0.1798 - val_accuracy: 0.9442\n",
            "Epoch 35/50\n",
            "25/25 [==============================] - 0s 4ms/step - loss: 0.1653 - accuracy: 0.9377 - val_loss: 0.1862 - val_accuracy: 0.9492\n",
            "Epoch 36/50\n",
            "25/25 [==============================] - 0s 5ms/step - loss: 0.1319 - accuracy: 0.9581 - val_loss: 0.1798 - val_accuracy: 0.9492\n",
            "Epoch 37/50\n",
            "25/25 [==============================] - 0s 5ms/step - loss: 0.1334 - accuracy: 0.9543 - val_loss: 0.1814 - val_accuracy: 0.9543\n",
            "Epoch 38/50\n",
            "25/25 [==============================] - 0s 5ms/step - loss: 0.1503 - accuracy: 0.9365 - val_loss: 0.1801 - val_accuracy: 0.9543\n",
            "Epoch 39/50\n",
            "25/25 [==============================] - 0s 5ms/step - loss: 0.1559 - accuracy: 0.9517 - val_loss: 0.1795 - val_accuracy: 0.9543\n",
            "Epoch 40/50\n",
            "25/25 [==============================] - 0s 5ms/step - loss: 0.1194 - accuracy: 0.9530 - val_loss: 0.1777 - val_accuracy: 0.9543\n",
            "Epoch 41/50\n",
            "25/25 [==============================] - 0s 5ms/step - loss: 0.1229 - accuracy: 0.9568 - val_loss: 0.1772 - val_accuracy: 0.9543\n",
            "Epoch 42/50\n",
            "25/25 [==============================] - 0s 5ms/step - loss: 0.1247 - accuracy: 0.9543 - val_loss: 0.1759 - val_accuracy: 0.9492\n",
            "Epoch 43/50\n",
            "25/25 [==============================] - 0s 5ms/step - loss: 0.1550 - accuracy: 0.9428 - val_loss: 0.1792 - val_accuracy: 0.9543\n",
            "Epoch 44/50\n",
            "25/25 [==============================] - 0s 5ms/step - loss: 0.1237 - accuracy: 0.9581 - val_loss: 0.1748 - val_accuracy: 0.9543\n",
            "Epoch 45/50\n",
            "25/25 [==============================] - 0s 5ms/step - loss: 0.1153 - accuracy: 0.9606 - val_loss: 0.1674 - val_accuracy: 0.9543\n",
            "Epoch 46/50\n",
            "25/25 [==============================] - 0s 5ms/step - loss: 0.1456 - accuracy: 0.9466 - val_loss: 0.1697 - val_accuracy: 0.9543\n",
            "Epoch 47/50\n",
            "25/25 [==============================] - 0s 5ms/step - loss: 0.1281 - accuracy: 0.9543 - val_loss: 0.1734 - val_accuracy: 0.9543\n",
            "Epoch 48/50\n",
            "25/25 [==============================] - 0s 5ms/step - loss: 0.1177 - accuracy: 0.9568 - val_loss: 0.1721 - val_accuracy: 0.9543\n",
            "Epoch 49/50\n",
            "25/25 [==============================] - 0s 5ms/step - loss: 0.1431 - accuracy: 0.9530 - val_loss: 0.1857 - val_accuracy: 0.9492\n",
            "Epoch 50/50\n",
            "25/25 [==============================] - 0s 5ms/step - loss: 0.1216 - accuracy: 0.9530 - val_loss: 0.1818 - val_accuracy: 0.9543\n"
          ],
          "name": "stdout"
        }
      ]
    },
    {
      "cell_type": "code",
      "metadata": {
        "colab": {
          "base_uri": "https://localhost:8080/",
          "height": 573
        },
        "id": "QbcRkDn8hklz",
        "outputId": "bcdc5604-bc19-450a-9fcc-2669e4e2c345"
      },
      "source": [
        "plt.plot(range(1,51),history.history['accuracy'],color='red')\n",
        "plt.plot(range(1,51),history.history['val_accuracy'],color='blue')\n",
        "plt.title(\"accuracy v/s epochs\")\n",
        "plt.xlabel(\"epoch\")\n",
        "plt.ylabel(\"accuracy\")\n",
        "plt.legend(['train','test'])\n",
        "plt.show()\n",
        "plt.plot(range(1,51),history.history['loss'],color='red')\n",
        "plt.plot(range(1,51),history.history['val_loss'],color='blue')\n",
        "plt.title(\"loss v/s epochs\")\n",
        "plt.xlabel(\"epoch\")\n",
        "plt.ylabel(\"loss\")\n",
        "plt.legend(['train','test'])\n",
        "plt.show()"
      ],
      "execution_count": null,
      "outputs": [
        {
          "output_type": "display_data",
          "data": {
            "image/png": "[encoded data removed]",
            "text/plain": [
              "<Figure size 432x288 with 1 Axes>"
            ]
          },
          "metadata": {
            "tags": [],
            "needs_background": "light"
          }
        },
        {
          "output_type": "display_data",
          "data": {
            "image/png": "[encoded data removed]",
            "text/plain": [
              "<Figure size 432x288 with 1 Axes>"
            ]
          },
          "metadata": {
            "tags": [],
            "needs_background": "light"
          }
        }
      ]
    },
    {
      "cell_type": "code",
      "metadata": {
        "id": "FaV2-Iith6sS"
      },
      "source": [
        ""
      ],
      "execution_count": null,
      "outputs": []
    }
  ]
}