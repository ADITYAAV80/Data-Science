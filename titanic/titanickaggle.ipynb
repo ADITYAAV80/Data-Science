{
  "nbformat": 4,
  "nbformat_minor": 0,
  "metadata": {
    "colab": {
      "name": "titanickaggle.ipynb",
      "provenance": [],
      "collapsed_sections": []
    },
    "kernelspec": {
      "name": "python3",
      "display_name": "Python 3"
    }
  },
  "cells": [
    {
      "cell_type": "code",
      "metadata": {
        "id": "6xp3tJbdNMyr"
      },
      "source": [
        "from google.colab import drive"
      ],
      "execution_count": 1,
      "outputs": []
    },
    {
      "cell_type": "code",
      "metadata": {
        "id": "NNKrhhU_Ncd0",
        "colab": {
          "base_uri": "https://localhost:8080/"
        },
        "outputId": "06f31cc8-aa3a-41ad-e727-a66a386876cf"
      },
      "source": [
        "drive.mount('/content/gdrive')"
      ],
      "execution_count": 2,
      "outputs": [
        {
          "output_type": "stream",
          "text": [
            "Mounted at /content/gdrive\n"
          ],
          "name": "stdout"
        }
      ]
    },
    {
      "cell_type": "code",
      "metadata": {
        "id": "cJM5KeWhNhyX"
      },
      "source": [
        "import pandas as pd\n",
        "import numpy as np\n",
        "import matplotlib.pyplot as plt\n",
        "%matplotlib inline"
      ],
      "execution_count": 123,
      "outputs": []
    },
    {
      "cell_type": "code",
      "metadata": {
        "id": "y1w4_z6WOOro"
      },
      "source": [
        "train_df=pd.read_csv('/content/gdrive/My Drive/titanictrain.csv')"
      ],
      "execution_count": 124,
      "outputs": []
    },
    {
      "cell_type": "code",
      "metadata": {
        "id": "ngSvPcHmOXnd",
        "colab": {
          "base_uri": "https://localhost:8080/",
          "height": 195
        },
        "outputId": "2b9be5ec-44a7-47b7-dfdb-129918cb1a38"
      },
      "source": [
        "train_df.head()"
      ],
      "execution_count": 125,
      "outputs": [
        {
          "output_type": "execute_result",
          "data": {
            "text/html": [
              "<div>\n",
              "<style scoped>\n",
              "    .dataframe tbody tr th:only-of-type {\n",
              "        vertical-align: middle;\n",
              "    }\n",
              "\n",
              "    .dataframe tbody tr th {\n",
              "        vertical-align: top;\n",
              "    }\n",
              "\n",
              "    .dataframe thead th {\n",
              "        text-align: right;\n",
              "    }\n",
              "</style>\n",
              "<table border=\"1\" class=\"dataframe\">\n",
              "  <thead>\n",
              "    <tr style=\"text-align: right;\">\n",
              "      <th></th>\n",
              "      <th>PassengerId</th>\n",
              "      <th>Survived</th>\n",
              "      <th>Pclass</th>\n",
              "      <th>Name</th>\n",
              "      <th>Sex</th>\n",
              "      <th>Age</th>\n",
              "      <th>SibSp</th>\n",
              "      <th>Parch</th>\n",
              "      <th>Ticket</th>\n",
              "      <th>Fare</th>\n",
              "      <th>Cabin</th>\n",
              "      <th>Embarked</th>\n",
              "    </tr>\n",
              "  </thead>\n",
              "  <tbody>\n",
              "    <tr>\n",
              "      <th>0</th>\n",
              "      <td>1</td>\n",
              "      <td>0</td>\n",
              "      <td>3</td>\n",
              "      <td>Braund, Mr. Owen Harris</td>\n",
              "      <td>male</td>\n",
              "      <td>22.0</td>\n",
              "      <td>1</td>\n",
              "      <td>0</td>\n",
              "      <td>A/5 21171</td>\n",
              "      <td>7.2500</td>\n",
              "      <td>NaN</td>\n",
              "      <td>S</td>\n",
              "    </tr>\n",
              "    <tr>\n",
              "      <th>1</th>\n",
              "      <td>2</td>\n",
              "      <td>1</td>\n",
              "      <td>1</td>\n",
              "      <td>Cumings, Mrs. John Bradley (Florence Briggs Th...</td>\n",
              "      <td>female</td>\n",
              "      <td>38.0</td>\n",
              "      <td>1</td>\n",
              "      <td>0</td>\n",
              "      <td>PC 17599</td>\n",
              "      <td>71.2833</td>\n",
              "      <td>C85</td>\n",
              "      <td>C</td>\n",
              "    </tr>\n",
              "    <tr>\n",
              "      <th>2</th>\n",
              "      <td>3</td>\n",
              "      <td>1</td>\n",
              "      <td>3</td>\n",
              "      <td>Heikkinen, Miss. Laina</td>\n",
              "      <td>female</td>\n",
              "      <td>26.0</td>\n",
              "      <td>0</td>\n",
              "      <td>0</td>\n",
              "      <td>STON/O2. 3101282</td>\n",
              "      <td>7.9250</td>\n",
              "      <td>NaN</td>\n",
              "      <td>S</td>\n",
              "    </tr>\n",
              "    <tr>\n",
              "      <th>3</th>\n",
              "      <td>4</td>\n",
              "      <td>1</td>\n",
              "      <td>1</td>\n",
              "      <td>Futrelle, Mrs. Jacques Heath (Lily May Peel)</td>\n",
              "      <td>female</td>\n",
              "      <td>35.0</td>\n",
              "      <td>1</td>\n",
              "      <td>0</td>\n",
              "      <td>113803</td>\n",
              "      <td>53.1000</td>\n",
              "      <td>C123</td>\n",
              "      <td>S</td>\n",
              "    </tr>\n",
              "    <tr>\n",
              "      <th>4</th>\n",
              "      <td>5</td>\n",
              "      <td>0</td>\n",
              "      <td>3</td>\n",
              "      <td>Allen, Mr. William Henry</td>\n",
              "      <td>male</td>\n",
              "      <td>35.0</td>\n",
              "      <td>0</td>\n",
              "      <td>0</td>\n",
              "      <td>373450</td>\n",
              "      <td>8.0500</td>\n",
              "      <td>NaN</td>\n",
              "      <td>S</td>\n",
              "    </tr>\n",
              "  </tbody>\n",
              "</table>\n",
              "</div>"
            ],
            "text/plain": [
              "   PassengerId  Survived  Pclass  ...     Fare Cabin  Embarked\n",
              "0            1         0       3  ...   7.2500   NaN         S\n",
              "1            2         1       1  ...  71.2833   C85         C\n",
              "2            3         1       3  ...   7.9250   NaN         S\n",
              "3            4         1       1  ...  53.1000  C123         S\n",
              "4            5         0       3  ...   8.0500   NaN         S\n",
              "\n",
              "[5 rows x 12 columns]"
            ]
          },
          "metadata": {
            "tags": []
          },
          "execution_count": 125
        }
      ]
    },
    {
      "cell_type": "code",
      "metadata": {
        "id": "udhf8ZSbOY95",
        "colab": {
          "base_uri": "https://localhost:8080/"
        },
        "outputId": "c7c9b1f3-098b-42d9-c333-d862d0c5b16b"
      },
      "source": [
        "train_df.shape"
      ],
      "execution_count": 126,
      "outputs": [
        {
          "output_type": "execute_result",
          "data": {
            "text/plain": [
              "(891, 12)"
            ]
          },
          "metadata": {
            "tags": []
          },
          "execution_count": 126
        }
      ]
    },
    {
      "cell_type": "code",
      "metadata": {
        "id": "bbIgcMStOldx"
      },
      "source": [
        "test_df=pd.read_csv('/content/gdrive/My Drive/titanictest.csv')"
      ],
      "execution_count": 127,
      "outputs": []
    },
    {
      "cell_type": "code",
      "metadata": {
        "id": "x7SVDYYMP82P",
        "colab": {
          "base_uri": "https://localhost:8080/",
          "height": 195
        },
        "outputId": "35acdf09-adaf-453c-a590-eb35cf7dd7fe"
      },
      "source": [
        "test_df.head()"
      ],
      "execution_count": 128,
      "outputs": [
        {
          "output_type": "execute_result",
          "data": {
            "text/html": [
              "<div>\n",
              "<style scoped>\n",
              "    .dataframe tbody tr th:only-of-type {\n",
              "        vertical-align: middle;\n",
              "    }\n",
              "\n",
              "    .dataframe tbody tr th {\n",
              "        vertical-align: top;\n",
              "    }\n",
              "\n",
              "    .dataframe thead th {\n",
              "        text-align: right;\n",
              "    }\n",
              "</style>\n",
              "<table border=\"1\" class=\"dataframe\">\n",
              "  <thead>\n",
              "    <tr style=\"text-align: right;\">\n",
              "      <th></th>\n",
              "      <th>PassengerId</th>\n",
              "      <th>Pclass</th>\n",
              "      <th>Name</th>\n",
              "      <th>Sex</th>\n",
              "      <th>Age</th>\n",
              "      <th>SibSp</th>\n",
              "      <th>Parch</th>\n",
              "      <th>Ticket</th>\n",
              "      <th>Fare</th>\n",
              "      <th>Cabin</th>\n",
              "      <th>Embarked</th>\n",
              "    </tr>\n",
              "  </thead>\n",
              "  <tbody>\n",
              "    <tr>\n",
              "      <th>0</th>\n",
              "      <td>892</td>\n",
              "      <td>3</td>\n",
              "      <td>Kelly, Mr. James</td>\n",
              "      <td>male</td>\n",
              "      <td>34.5</td>\n",
              "      <td>0</td>\n",
              "      <td>0</td>\n",
              "      <td>330911</td>\n",
              "      <td>7.8292</td>\n",
              "      <td>NaN</td>\n",
              "      <td>Q</td>\n",
              "    </tr>\n",
              "    <tr>\n",
              "      <th>1</th>\n",
              "      <td>893</td>\n",
              "      <td>3</td>\n",
              "      <td>Wilkes, Mrs. James (Ellen Needs)</td>\n",
              "      <td>female</td>\n",
              "      <td>47.0</td>\n",
              "      <td>1</td>\n",
              "      <td>0</td>\n",
              "      <td>363272</td>\n",
              "      <td>7.0000</td>\n",
              "      <td>NaN</td>\n",
              "      <td>S</td>\n",
              "    </tr>\n",
              "    <tr>\n",
              "      <th>2</th>\n",
              "      <td>894</td>\n",
              "      <td>2</td>\n",
              "      <td>Myles, Mr. Thomas Francis</td>\n",
              "      <td>male</td>\n",
              "      <td>62.0</td>\n",
              "      <td>0</td>\n",
              "      <td>0</td>\n",
              "      <td>240276</td>\n",
              "      <td>9.6875</td>\n",
              "      <td>NaN</td>\n",
              "      <td>Q</td>\n",
              "    </tr>\n",
              "    <tr>\n",
              "      <th>3</th>\n",
              "      <td>895</td>\n",
              "      <td>3</td>\n",
              "      <td>Wirz, Mr. Albert</td>\n",
              "      <td>male</td>\n",
              "      <td>27.0</td>\n",
              "      <td>0</td>\n",
              "      <td>0</td>\n",
              "      <td>315154</td>\n",
              "      <td>8.6625</td>\n",
              "      <td>NaN</td>\n",
              "      <td>S</td>\n",
              "    </tr>\n",
              "    <tr>\n",
              "      <th>4</th>\n",
              "      <td>896</td>\n",
              "      <td>3</td>\n",
              "      <td>Hirvonen, Mrs. Alexander (Helga E Lindqvist)</td>\n",
              "      <td>female</td>\n",
              "      <td>22.0</td>\n",
              "      <td>1</td>\n",
              "      <td>1</td>\n",
              "      <td>3101298</td>\n",
              "      <td>12.2875</td>\n",
              "      <td>NaN</td>\n",
              "      <td>S</td>\n",
              "    </tr>\n",
              "  </tbody>\n",
              "</table>\n",
              "</div>"
            ],
            "text/plain": [
              "   PassengerId  Pclass  ... Cabin Embarked\n",
              "0          892       3  ...   NaN        Q\n",
              "1          893       3  ...   NaN        S\n",
              "2          894       2  ...   NaN        Q\n",
              "3          895       3  ...   NaN        S\n",
              "4          896       3  ...   NaN        S\n",
              "\n",
              "[5 rows x 11 columns]"
            ]
          },
          "metadata": {
            "tags": []
          },
          "execution_count": 128
        }
      ]
    },
    {
      "cell_type": "code",
      "metadata": {
        "id": "QDP0frKXP-tX",
        "colab": {
          "base_uri": "https://localhost:8080/"
        },
        "outputId": "e6fefc92-422b-4149-ba44-ea7edcb270cb"
      },
      "source": [
        "test_df.shape"
      ],
      "execution_count": 129,
      "outputs": [
        {
          "output_type": "execute_result",
          "data": {
            "text/plain": [
              "(418, 11)"
            ]
          },
          "metadata": {
            "tags": []
          },
          "execution_count": 129
        }
      ]
    },
    {
      "cell_type": "code",
      "metadata": {
        "id": "gtbyp7tKQFlN",
        "colab": {
          "base_uri": "https://localhost:8080/"
        },
        "outputId": "33235094-00b6-435f-ceff-029ebc2cc521"
      },
      "source": [
        "train_df.isnull().sum()"
      ],
      "execution_count": 130,
      "outputs": [
        {
          "output_type": "execute_result",
          "data": {
            "text/plain": [
              "PassengerId      0\n",
              "Survived         0\n",
              "Pclass           0\n",
              "Name             0\n",
              "Sex              0\n",
              "Age            177\n",
              "SibSp            0\n",
              "Parch            0\n",
              "Ticket           0\n",
              "Fare             0\n",
              "Cabin          687\n",
              "Embarked         2\n",
              "dtype: int64"
            ]
          },
          "metadata": {
            "tags": []
          },
          "execution_count": 130
        }
      ]
    },
    {
      "cell_type": "code",
      "metadata": {
        "id": "BvqAlAgfQM2r",
        "colab": {
          "base_uri": "https://localhost:8080/"
        },
        "outputId": "d6b57f0d-113f-42b9-bdcf-cbb4dc48df50"
      },
      "source": [
        "test_df.isnull().sum()"
      ],
      "execution_count": 131,
      "outputs": [
        {
          "output_type": "execute_result",
          "data": {
            "text/plain": [
              "PassengerId      0\n",
              "Pclass           0\n",
              "Name             0\n",
              "Sex              0\n",
              "Age             86\n",
              "SibSp            0\n",
              "Parch            0\n",
              "Ticket           0\n",
              "Fare             1\n",
              "Cabin          327\n",
              "Embarked         0\n",
              "dtype: int64"
            ]
          },
          "metadata": {
            "tags": []
          },
          "execution_count": 131
        }
      ]
    },
    {
      "cell_type": "markdown",
      "metadata": {
        "id": "TCpIQRfpQafW"
      },
      "source": [
        "#Visualising"
      ]
    },
    {
      "cell_type": "code",
      "metadata": {
        "id": "WRplNaTAQmd5"
      },
      "source": [
        "def visualize(feature):\n",
        "  survived=(train_df[train_df['Survived']==1][feature]).value_counts()\n",
        "  dead=(train_df[train_df['Survived']==0][feature]).value_counts()\n",
        "  df=pd.DataFrame([survived,dead])  \n",
        "  df.index=['survived','dead']\n",
        "  df.plot(kind='bar',stacked=True,figsize=(10,5))\n",
        "  return df"
      ],
      "execution_count": 132,
      "outputs": []
    },
    {
      "cell_type": "code",
      "metadata": {
        "id": "NCy367RH8Stp",
        "colab": {
          "base_uri": "https://localhost:8080/",
          "height": 353
        },
        "outputId": "75cdcffb-6484-4252-c918-c39f4a1b2890"
      },
      "source": [
        "df=visualize('Sex')"
      ],
      "execution_count": 133,
      "outputs": [
        {
          "output_type": "display_data",
          "data": {
            "image/png": "[encoded data removed]",
            "text/plain": [
              "<Figure size 720x360 with 1 Axes>"
            ]
          },
          "metadata": {
            "tags": [],
            "needs_background": "light"
          }
        }
      ]
    },
    {
      "cell_type": "code",
      "metadata": {
        "id": "FzWO3hMD_Vq8",
        "colab": {
          "base_uri": "https://localhost:8080/"
        },
        "outputId": "0000a867-07f4-4924-de56-191692f5d4c4"
      },
      "source": [
        "print(\"Percentage of women survived:\",df.female['survived']/df.female.sum())\n",
        "print(\"Percentage of men survived:\",df.male['survived']/df.male.sum())"
      ],
      "execution_count": 134,
      "outputs": [
        {
          "output_type": "stream",
          "text": [
            "Percentage of women survived: 0.7420382165605095\n",
            "Percentage of men survived: 0.18890814558058924\n"
          ],
          "name": "stdout"
        }
      ]
    },
    {
      "cell_type": "markdown",
      "metadata": {
        "id": "cGB64ql8-dpj"
      },
      "source": [
        "<p><i>As we can see the  rate of survival of women is much higher than men.</i></br><b>So the gender of the passengers played a crucial factor in the titanic rescue operation</b></p>"
      ]
    },
    {
      "cell_type": "code",
      "metadata": {
        "id": "nug0UzgO8gYx",
        "colab": {
          "base_uri": "https://localhost:8080/",
          "height": 353
        },
        "outputId": "1bb55026-ad43-4b58-ab67-bdeb387cc024"
      },
      "source": [
        "df=visualize('Pclass')"
      ],
      "execution_count": 135,
      "outputs": [
        {
          "output_type": "display_data",
          "data": {
            "image/png": "[encoded data removed]",
            "text/plain": [
              "<Figure size 720x360 with 1 Axes>"
            ]
          },
          "metadata": {
            "tags": [],
            "needs_background": "light"
          }
        }
      ]
    },
    {
      "cell_type": "code",
      "metadata": {
        "id": "Qb8jmPfrByPE",
        "colab": {
          "base_uri": "https://localhost:8080/"
        },
        "outputId": "ac77efc3-eb4c-452b-891d-b44c17915636"
      },
      "source": [
        "print(\"Percentage of class 1 survived:\",df[1].survived/df[1].sum())\n",
        "print(\"Percentage of class 2 survived:\",df[2].survived/df[2].sum())\n",
        "print(\"Percentage of class 3 survived:\",df[3].survived/df[3].sum())"
      ],
      "execution_count": 136,
      "outputs": [
        {
          "output_type": "stream",
          "text": [
            "Percentage of class 1 survived: 0.6296296296296297\n",
            "Percentage of class 2 survived: 0.47282608695652173\n",
            "Percentage of class 3 survived: 0.24236252545824846\n"
          ],
          "name": "stdout"
        }
      ]
    },
    {
      "cell_type": "markdown",
      "metadata": {
        "id": "DsG3xdrgDmDZ"
      },
      "source": [
        "<p><i>As we can see the  rate of survival of class 1 is much higher than class 2 and class 3.</i></br><b>So the economic status of the passengers i.e their class played a crucial factor in the titanic rescue operation</b></p"
      ]
    },
    {
      "cell_type": "code",
      "metadata": {
        "id": "cnUGuQfC9kSW",
        "colab": {
          "base_uri": "https://localhost:8080/",
          "height": 353
        },
        "outputId": "16fa806d-c4e3-40a9-8548-09ee703e34e4"
      },
      "source": [
        "df=visualize('Embarked')"
      ],
      "execution_count": 137,
      "outputs": [
        {
          "output_type": "display_data",
          "data": {
            "image/png": "[encoded data removed]",
            "text/plain": [
              "<Figure size 720x360 with 1 Axes>"
            ]
          },
          "metadata": {
            "tags": [],
            "needs_background": "light"
          }
        }
      ]
    },
    {
      "cell_type": "code",
      "metadata": {
        "id": "51pOhMBhD38p",
        "colab": {
          "base_uri": "https://localhost:8080/"
        },
        "outputId": "4f10619b-75a4-4ee9-d171-a69198ffc4c0"
      },
      "source": [
        "print(\"Embarked from Southampton survived:\",df['S'].survived/df['S'].sum())\n",
        "print(\"Embarked from Queenstown survived:\",df['Q'].survived/df['Q'].sum())\n",
        "print(\"Embarked from Cherboug\",df['C'].survived/df['C'].sum())"
      ],
      "execution_count": 138,
      "outputs": [
        {
          "output_type": "stream",
          "text": [
            "Embarked from Southampton survived: 0.33695652173913043\n",
            "Embarked from Queenstown survived: 0.38961038961038963\n",
            "Embarked from Cherboug 0.5535714285714286\n"
          ],
          "name": "stdout"
        }
      ]
    },
    {
      "cell_type": "markdown",
      "metadata": {
        "id": "0O6c0yt0q5pN"
      },
      "source": [
        "<i>As we can see people who left from <b>Cherboug have high chances of survival</b></i> "
      ]
    },
    {
      "cell_type": "code",
      "metadata": {
        "id": "fcmOvSAH94aH",
        "colab": {
          "base_uri": "https://localhost:8080/",
          "height": 353
        },
        "outputId": "b8b893cb-e7cf-4cfe-d30a-5bcecbfb83e4"
      },
      "source": [
        "df=visualize('SibSp')\n",
        "df.fillna(0,inplace=True)"
      ],
      "execution_count": 139,
      "outputs": [
        {
          "output_type": "display_data",
          "data": {
            "image/png": "[encoded data removed]",
            "text/plain": [
              "<Figure size 720x360 with 1 Axes>"
            ]
          },
          "metadata": {
            "tags": [],
            "needs_background": "light"
          }
        }
      ]
    },
    {
      "cell_type": "code",
      "metadata": {
        "id": "99O4yT84d8Py",
        "colab": {
          "base_uri": "https://localhost:8080/",
          "height": 455
        },
        "outputId": "474c8647-47d3-4a49-d73e-ee8296bbf6f8"
      },
      "source": [
        "fig,ax=plt.subplots(2,3,figsize=(15,7.5))\n",
        "k=0\n",
        "for i in range(2):\n",
        "  for j in range(3):\n",
        "    if k<=5 :\n",
        "      ax[i][j].pie(df[k],autopct='%1.1f%%',shadow=True,startangle=90,explode=[0.1,0],colors=['green','red'])\n",
        "      ax[i][j].set_title('People who had '+str(k)+' siblings/spouses')\n",
        "      ax[i][j].axis('equal')\n",
        "      ax[i][j].legend(labels=['survived','dead'])\n",
        "      k=k+1"
      ],
      "execution_count": 140,
      "outputs": [
        {
          "output_type": "display_data",
          "data": {
            "image/png": "[encoded data removed]",
            "text/plain": [
              "<Figure size 1080x540 with 6 Axes>"
            ]
          },
          "metadata": {
            "tags": []
          }
        }
      ]
    },
    {
      "cell_type": "code",
      "metadata": {
        "id": "n_2uci8I-NXj",
        "colab": {
          "base_uri": "https://localhost:8080/",
          "height": 353
        },
        "outputId": "c62af3b0-f32c-4aea-d4bf-47c1cb769efd"
      },
      "source": [
        "df=visualize('Parch')\n",
        "df.fillna(0,inplace=True)"
      ],
      "execution_count": 141,
      "outputs": [
        {
          "output_type": "display_data",
          "data": {
            "image/png": "[encoded data removed]",
            "text/plain": [
              "<Figure size 720x360 with 1 Axes>"
            ]
          },
          "metadata": {
            "tags": [],
            "needs_background": "light"
          }
        }
      ]
    },
    {
      "cell_type": "code",
      "metadata": {
        "id": "Sm-geSaH-ZH1",
        "colab": {
          "base_uri": "https://localhost:8080/",
          "height": 455
        },
        "outputId": "6cadcf69-d260-4d82-c32d-64aef8283c07"
      },
      "source": [
        "fig,ax=plt.subplots(2,3,figsize=(15,7.5))\n",
        "k=0\n",
        "for i in range(2):\n",
        "  for j in range(3):\n",
        "    if (k<=6):\n",
        "      ax[i][j].pie(df[k],autopct='%1.1f%%',shadow=True,startangle=90,explode=[0.1,0],colors=['green','red'])\n",
        "      ax[i][j].set_title('People who had '+str(k)+' parent/children')\n",
        "      ax[i][j].axis('equal')\n",
        "      ax[i][j].legend(labels=['survived','dead'])\n",
        "      k=k+1"
      ],
      "execution_count": 142,
      "outputs": [
        {
          "output_type": "display_data",
          "data": {
            "image/png": "[encoded data removed]",
            "text/plain": [
              "<Figure size 1080x540 with 6 Axes>"
            ]
          },
          "metadata": {
            "tags": []
          }
        }
      ]
    },
    {
      "cell_type": "markdown",
      "metadata": {
        "id": "lZdHZ4corpYA"
      },
      "source": [
        "<center><b><h3>Now let's examine the Names and use that to fill the Ages</h3></b></center>"
      ]
    },
    {
      "cell_type": "code",
      "metadata": {
        "id": "k32Qf7lOsBBy",
        "colab": {
          "base_uri": "https://localhost:8080/"
        },
        "outputId": "e7865507-c935-4c97-dc76-8867a6308f8c"
      },
      "source": [
        "train_df['Name'].apply(lambda x: str(x))\n",
        "test_df['Name'].apply(lambda x:str(x))\n",
        "train_df['title']=train_df.Name.str.extract('([a-zA-Z]+\\.)')\n",
        "test_df['title']=test_df.Name.str.extract('([a-zA-Z]+\\.)')\n",
        "print(pd.unique(train_df['title']))"
      ],
      "execution_count": 143,
      "outputs": [
        {
          "output_type": "stream",
          "text": [
            "['Mr.' 'Mrs.' 'Miss.' 'Master.' 'Don.' 'Rev.' 'Dr.' 'Mme.' 'Ms.' 'Major.'\n",
            " 'Lady.' 'Sir.' 'Mlle.' 'Col.' 'Capt.' 'Countess.' 'Jonkheer.']\n"
          ],
          "name": "stdout"
        }
      ]
    },
    {
      "cell_type": "code",
      "metadata": {
        "id": "odM1n4GtsBFT"
      },
      "source": [
        "title_mapping={'Mr.':0,'Mrs.':1,'Miss.':2,'Master.':3,'Don.':3,'Rev.':3,'Dr.':3,'Mme.':3,'Ms.':3,'Major.':3,\n",
        " 'Lady.':3,'Sir.':3,'Mlle.':3,'Col.':3,'Capt.':3,'Countess.':3,'Jonkheer.':3}\n",
        "train_test_df=[train_df,test_df]\n",
        "for dataset in train_test_df:\n",
        "  dataset['title']=dataset['title'].map(title_mapping)"
      ],
      "execution_count": 144,
      "outputs": []
    },
    {
      "cell_type": "code",
      "metadata": {
        "id": "gH2sCJ0SsBIx"
      },
      "source": [
        "train_df.drop(['Name'],axis=1,inplace=True)\n",
        "test_df.drop(['Name'],axis=1,inplace=True)"
      ],
      "execution_count": 145,
      "outputs": []
    },
    {
      "cell_type": "code",
      "metadata": {
        "id": "y5KohwEUynyV"
      },
      "source": [
        "from sklearn.preprocessing import LabelEncoder\n",
        "le=LabelEncoder()\n",
        "train_df['Sex']=le.fit_transform(train_df['Sex'])\n",
        "test_df['Sex']=le.fit_transform(test_df['Sex'])"
      ],
      "execution_count": 146,
      "outputs": []
    },
    {
      "cell_type": "code",
      "metadata": {
        "id": "w-4SqGbJzHEj",
        "colab": {
          "base_uri": "https://localhost:8080/",
          "height": 136
        },
        "outputId": "6de741de-f0a5-48cf-ec6c-c6c26c00e0c5"
      },
      "source": [
        "train_df.head(3)"
      ],
      "execution_count": 147,
      "outputs": [
        {
          "output_type": "execute_result",
          "data": {
            "text/html": [
              "<div>\n",
              "<style scoped>\n",
              "    .dataframe tbody tr th:only-of-type {\n",
              "        vertical-align: middle;\n",
              "    }\n",
              "\n",
              "    .dataframe tbody tr th {\n",
              "        vertical-align: top;\n",
              "    }\n",
              "\n",
              "    .dataframe thead th {\n",
              "        text-align: right;\n",
              "    }\n",
              "</style>\n",
              "<table border=\"1\" class=\"dataframe\">\n",
              "  <thead>\n",
              "    <tr style=\"text-align: right;\">\n",
              "      <th></th>\n",
              "      <th>PassengerId</th>\n",
              "      <th>Survived</th>\n",
              "      <th>Pclass</th>\n",
              "      <th>Sex</th>\n",
              "      <th>Age</th>\n",
              "      <th>SibSp</th>\n",
              "      <th>Parch</th>\n",
              "      <th>Ticket</th>\n",
              "      <th>Fare</th>\n",
              "      <th>Cabin</th>\n",
              "      <th>Embarked</th>\n",
              "      <th>title</th>\n",
              "    </tr>\n",
              "  </thead>\n",
              "  <tbody>\n",
              "    <tr>\n",
              "      <th>0</th>\n",
              "      <td>1</td>\n",
              "      <td>0</td>\n",
              "      <td>3</td>\n",
              "      <td>1</td>\n",
              "      <td>22.0</td>\n",
              "      <td>1</td>\n",
              "      <td>0</td>\n",
              "      <td>A/5 21171</td>\n",
              "      <td>7.2500</td>\n",
              "      <td>NaN</td>\n",
              "      <td>S</td>\n",
              "      <td>0</td>\n",
              "    </tr>\n",
              "    <tr>\n",
              "      <th>1</th>\n",
              "      <td>2</td>\n",
              "      <td>1</td>\n",
              "      <td>1</td>\n",
              "      <td>0</td>\n",
              "      <td>38.0</td>\n",
              "      <td>1</td>\n",
              "      <td>0</td>\n",
              "      <td>PC 17599</td>\n",
              "      <td>71.2833</td>\n",
              "      <td>C85</td>\n",
              "      <td>C</td>\n",
              "      <td>1</td>\n",
              "    </tr>\n",
              "    <tr>\n",
              "      <th>2</th>\n",
              "      <td>3</td>\n",
              "      <td>1</td>\n",
              "      <td>3</td>\n",
              "      <td>0</td>\n",
              "      <td>26.0</td>\n",
              "      <td>0</td>\n",
              "      <td>0</td>\n",
              "      <td>STON/O2. 3101282</td>\n",
              "      <td>7.9250</td>\n",
              "      <td>NaN</td>\n",
              "      <td>S</td>\n",
              "      <td>2</td>\n",
              "    </tr>\n",
              "  </tbody>\n",
              "</table>\n",
              "</div>"
            ],
            "text/plain": [
              "   PassengerId  Survived  Pclass  Sex  ...     Fare  Cabin  Embarked title\n",
              "0            1         0       3    1  ...   7.2500    NaN         S     0\n",
              "1            2         1       1    0  ...  71.2833    C85         C     1\n",
              "2            3         1       3    0  ...   7.9250    NaN         S     2\n",
              "\n",
              "[3 rows x 12 columns]"
            ]
          },
          "metadata": {
            "tags": []
          },
          "execution_count": 147
        }
      ]
    },
    {
      "cell_type": "code",
      "metadata": {
        "id": "ryiPcIlQ0pkY"
      },
      "source": [
        "train_df=pd.get_dummies(train_df,drop_first=True,columns=['Embarked'])\n",
        "test_df=pd.get_dummies(test_df,drop_first=True,columns=['Embarked'])"
      ],
      "execution_count": 148,
      "outputs": []
    },
    {
      "cell_type": "code",
      "metadata": {
        "id": "rLe2nJqL1AEa",
        "colab": {
          "base_uri": "https://localhost:8080/",
          "height": 136
        },
        "outputId": "796d82c6-9767-475c-be20-80dcf50cf03f"
      },
      "source": [
        "train_df.head(3)"
      ],
      "execution_count": 149,
      "outputs": [
        {
          "output_type": "execute_result",
          "data": {
            "text/html": [
              "<div>\n",
              "<style scoped>\n",
              "    .dataframe tbody tr th:only-of-type {\n",
              "        vertical-align: middle;\n",
              "    }\n",
              "\n",
              "    .dataframe tbody tr th {\n",
              "        vertical-align: top;\n",
              "    }\n",
              "\n",
              "    .dataframe thead th {\n",
              "        text-align: right;\n",
              "    }\n",
              "</style>\n",
              "<table border=\"1\" class=\"dataframe\">\n",
              "  <thead>\n",
              "    <tr style=\"text-align: right;\">\n",
              "      <th></th>\n",
              "      <th>PassengerId</th>\n",
              "      <th>Survived</th>\n",
              "      <th>Pclass</th>\n",
              "      <th>Sex</th>\n",
              "      <th>Age</th>\n",
              "      <th>SibSp</th>\n",
              "      <th>Parch</th>\n",
              "      <th>Ticket</th>\n",
              "      <th>Fare</th>\n",
              "      <th>Cabin</th>\n",
              "      <th>title</th>\n",
              "      <th>Embarked_Q</th>\n",
              "      <th>Embarked_S</th>\n",
              "    </tr>\n",
              "  </thead>\n",
              "  <tbody>\n",
              "    <tr>\n",
              "      <th>0</th>\n",
              "      <td>1</td>\n",
              "      <td>0</td>\n",
              "      <td>3</td>\n",
              "      <td>1</td>\n",
              "      <td>22.0</td>\n",
              "      <td>1</td>\n",
              "      <td>0</td>\n",
              "      <td>A/5 21171</td>\n",
              "      <td>7.2500</td>\n",
              "      <td>NaN</td>\n",
              "      <td>0</td>\n",
              "      <td>0</td>\n",
              "      <td>1</td>\n",
              "    </tr>\n",
              "    <tr>\n",
              "      <th>1</th>\n",
              "      <td>2</td>\n",
              "      <td>1</td>\n",
              "      <td>1</td>\n",
              "      <td>0</td>\n",
              "      <td>38.0</td>\n",
              "      <td>1</td>\n",
              "      <td>0</td>\n",
              "      <td>PC 17599</td>\n",
              "      <td>71.2833</td>\n",
              "      <td>C85</td>\n",
              "      <td>1</td>\n",
              "      <td>0</td>\n",
              "      <td>0</td>\n",
              "    </tr>\n",
              "    <tr>\n",
              "      <th>2</th>\n",
              "      <td>3</td>\n",
              "      <td>1</td>\n",
              "      <td>3</td>\n",
              "      <td>0</td>\n",
              "      <td>26.0</td>\n",
              "      <td>0</td>\n",
              "      <td>0</td>\n",
              "      <td>STON/O2. 3101282</td>\n",
              "      <td>7.9250</td>\n",
              "      <td>NaN</td>\n",
              "      <td>2</td>\n",
              "      <td>0</td>\n",
              "      <td>1</td>\n",
              "    </tr>\n",
              "  </tbody>\n",
              "</table>\n",
              "</div>"
            ],
            "text/plain": [
              "   PassengerId  Survived  Pclass  Sex  ...  Cabin  title  Embarked_Q Embarked_S\n",
              "0            1         0       3    1  ...    NaN      0           0          1\n",
              "1            2         1       1    0  ...    C85      1           0          0\n",
              "2            3         1       3    0  ...    NaN      2           0          1\n",
              "\n",
              "[3 rows x 13 columns]"
            ]
          },
          "metadata": {
            "tags": []
          },
          "execution_count": 149
        }
      ]
    },
    {
      "cell_type": "code",
      "metadata": {
        "id": "0-KUABR5YIAw"
      },
      "source": [
        "train_df['Age'].fillna(train_df.groupby('title')['Age'].transform(\"median\"),inplace=True)\n",
        "test_df['Age'].fillna(train_df.groupby('title')['Age'].transform(\"median\"),inplace=True)"
      ],
      "execution_count": 150,
      "outputs": []
    },
    {
      "cell_type": "code",
      "metadata": {
        "id": "-OxDI3vkpB-u",
        "colab": {
          "base_uri": "https://localhost:8080/",
          "height": 473
        },
        "outputId": "36608a95-9c0b-4ddc-b4f6-fe5d6eb5989c"
      },
      "source": [
        "f, axes = plt.subplots(1, 2,figsize=(15,7.5))\n",
        "counts,bin_edgess=np.histogram(train_df[train_df['Survived']==1]['Age'].fillna(0),bins=10)\n",
        "train_df[train_df['Survived']==1]['Age'].plot(kind='hist',xticks=bin_edgess,bins=10,alpha=0.6,color='g',ax=axes[0],label='survived')\n",
        "countd,bin_edgesd=np.histogram(train_df[train_df['Survived']==0]['Age'].fillna(0),bins=10)\n",
        "train_df[train_df['Survived']==0]['Age'].plot(kind='hist',xticks=bin_edgesd,bins=10,alpha=0.6,color='r',ax=axes[1],label='dead')"
      ],
      "execution_count": 151,
      "outputs": [
        {
          "output_type": "execute_result",
          "data": {
            "text/plain": [
              "<matplotlib.axes._subplots.AxesSubplot at 0x7fda4ce24eb8>"
            ]
          },
          "metadata": {
            "tags": []
          },
          "execution_count": 151
        },
        {
          "output_type": "display_data",
          "data": {
            "image/png": "[encoded data removed]",
            "text/plain": [
              "<Figure size 1080x540 with 2 Axes>"
            ]
          },
          "metadata": {
            "tags": [],
            "needs_background": "light"
          }
        }
      ]
    },
    {
      "cell_type": "code",
      "metadata": {
        "id": "8PF8pI5ThLUm",
        "colab": {
          "base_uri": "https://localhost:8080/",
          "height": 343
        },
        "outputId": "c8a48aeb-2994-4501-ae99-7648c6eaf3c2"
      },
      "source": [
        "survivalrate=counts/(counts+countd)\n",
        "a=pd.DataFrame(bin_edgess[1:,].round(),survivalrate)\n",
        "a.columns=['Age<=']\n",
        "a['survival-rate']=a.index\n",
        "a.index=range(len(a))\n",
        "a"
      ],
      "execution_count": 152,
      "outputs": [
        {
          "output_type": "execute_result",
          "data": {
            "text/html": [
              "<div>\n",
              "<style scoped>\n",
              "    .dataframe tbody tr th:only-of-type {\n",
              "        vertical-align: middle;\n",
              "    }\n",
              "\n",
              "    .dataframe tbody tr th {\n",
              "        vertical-align: top;\n",
              "    }\n",
              "\n",
              "    .dataframe thead th {\n",
              "        text-align: right;\n",
              "    }\n",
              "</style>\n",
              "<table border=\"1\" class=\"dataframe\">\n",
              "  <thead>\n",
              "    <tr style=\"text-align: right;\">\n",
              "      <th></th>\n",
              "      <th>Age&lt;=</th>\n",
              "      <th>survival-rate</th>\n",
              "    </tr>\n",
              "  </thead>\n",
              "  <tbody>\n",
              "    <tr>\n",
              "      <th>0</th>\n",
              "      <td>8.0</td>\n",
              "      <td>0.666667</td>\n",
              "    </tr>\n",
              "    <tr>\n",
              "      <th>1</th>\n",
              "      <td>16.0</td>\n",
              "      <td>0.525000</td>\n",
              "    </tr>\n",
              "    <tr>\n",
              "      <th>2</th>\n",
              "      <td>24.0</td>\n",
              "      <td>0.429293</td>\n",
              "    </tr>\n",
              "    <tr>\n",
              "      <th>3</th>\n",
              "      <td>32.0</td>\n",
              "      <td>0.268707</td>\n",
              "    </tr>\n",
              "    <tr>\n",
              "      <th>4</th>\n",
              "      <td>40.0</td>\n",
              "      <td>0.496241</td>\n",
              "    </tr>\n",
              "    <tr>\n",
              "      <th>5</th>\n",
              "      <td>48.0</td>\n",
              "      <td>0.347826</td>\n",
              "    </tr>\n",
              "    <tr>\n",
              "      <th>6</th>\n",
              "      <td>56.0</td>\n",
              "      <td>0.355932</td>\n",
              "    </tr>\n",
              "    <tr>\n",
              "      <th>7</th>\n",
              "      <td>64.0</td>\n",
              "      <td>0.375000</td>\n",
              "    </tr>\n",
              "    <tr>\n",
              "      <th>8</th>\n",
              "      <td>72.0</td>\n",
              "      <td>0.000000</td>\n",
              "    </tr>\n",
              "    <tr>\n",
              "      <th>9</th>\n",
              "      <td>80.0</td>\n",
              "      <td>0.142857</td>\n",
              "    </tr>\n",
              "  </tbody>\n",
              "</table>\n",
              "</div>"
            ],
            "text/plain": [
              "   Age<=  survival-rate\n",
              "0    8.0       0.666667\n",
              "1   16.0       0.525000\n",
              "2   24.0       0.429293\n",
              "3   32.0       0.268707\n",
              "4   40.0       0.496241\n",
              "5   48.0       0.347826\n",
              "6   56.0       0.355932\n",
              "7   64.0       0.375000\n",
              "8   72.0       0.000000\n",
              "9   80.0       0.142857"
            ]
          },
          "metadata": {
            "tags": []
          },
          "execution_count": 152
        }
      ]
    },
    {
      "cell_type": "markdown",
      "metadata": {
        "id": "YPNUEzquZsOu"
      },
      "source": [
        "<i>As we can see the survival rate of people with less age is high compared to older ages with the exception of 24-32 age</i></br>\n",
        "<b>Let's see with facetplot "
      ]
    },
    {
      "cell_type": "code",
      "metadata": {
        "id": "sXsxawTDuZC7"
      },
      "source": [
        "import seaborn as sns "
      ],
      "execution_count": 153,
      "outputs": []
    },
    {
      "cell_type": "code",
      "metadata": {
        "id": "LhFgrmKBa8Ng",
        "colab": {
          "base_uri": "https://localhost:8080/",
          "height": 225
        },
        "outputId": "d1cbf99a-10b0-473d-a0d3-04955dc3b3d0"
      },
      "source": [
        "facet=sns.FacetGrid(train_df,hue='Survived',aspect=4,xlim=(0,train_df['Age'].max()))\n",
        "facet.map(sns.kdeplot,'Age',shade=True)\n",
        "facet.add_legend()\n",
        "plt.show()"
      ],
      "execution_count": 154,
      "outputs": [
        {
          "output_type": "display_data",
          "data": {
            "image/png": "[encoded data removed]",
            "text/plain": [
              "<Figure size 915.875x216 with 1 Axes>"
            ]
          },
          "metadata": {
            "tags": [],
            "needs_background": "light"
          }
        }
      ]
    },
    {
      "cell_type": "code",
      "metadata": {
        "id": "aa1rto6Lb8Qa"
      },
      "source": [
        "x_train=train_df.drop(['Ticket','Cabin','PassengerId','Survived'],axis=1)\n",
        "y_train=train_df['Survived']\n",
        "x_test=test_df.drop(['Ticket','Cabin','PassengerId'],axis=1)"
      ],
      "execution_count": 155,
      "outputs": []
    },
    {
      "cell_type": "code",
      "metadata": {
        "id": "nK3S1Cetf677"
      },
      "source": [
        "from sklearn.preprocessing import StandardScaler\n",
        "x_train=StandardScaler().fit_transform(x_train)\n",
        "x_test=StandardScaler().fit_transform(x_test)"
      ],
      "execution_count": 156,
      "outputs": []
    },
    {
      "cell_type": "code",
      "metadata": {
        "id": "W21av7gigcN6"
      },
      "source": [
        "from sklearn.model_selection import KFold,cross_val_score,cross_val_predict"
      ],
      "execution_count": 157,
      "outputs": []
    },
    {
      "cell_type": "code",
      "metadata": {
        "id": "p6axricwHoRm"
      },
      "source": [
        "from sklearn.svm import SVC\n",
        "from sklearn.neighbors import KNeighborsClassifier\n",
        "from sklearn.naive_bayes import GaussianNB\n",
        "from sklearn.tree import DecisionTreeClassifier\n",
        "from sklearn.linear_model import LogisticRegression\n",
        "from sklearn.ensemble import RandomForestClassifier"
      ],
      "execution_count": 158,
      "outputs": []
    },
    {
      "cell_type": "code",
      "metadata": {
        "id": "HqIWBx7zJFjH"
      },
      "source": [
        "kfold=KFold(n_splits=10,shuffle=True,random_state=1)"
      ],
      "execution_count": 159,
      "outputs": []
    },
    {
      "cell_type": "code",
      "metadata": {
        "id": "pj9yAMn-Jcaf",
        "colab": {
          "base_uri": "https://localhost:8080/"
        },
        "outputId": "f6a2a3d1-a9a1-479c-ca40-f68cdad3e991"
      },
      "source": [
        "SupVec=SVC(C=0.10,kernel='rbf')\n",
        "a=cross_val_score(SupVec,cv=kfold,X=x_train,y=y_train)\n",
        "print(\"accuracy(SVM):\",np.mean(a))"
      ],
      "execution_count": 160,
      "outputs": [
        {
          "output_type": "stream",
          "text": [
            "accuracy(SVM): 0.8227590511860174\n"
          ],
          "name": "stdout"
        }
      ]
    },
    {
      "cell_type": "code",
      "metadata": {
        "id": "hG4qyx5AJpDo",
        "colab": {
          "base_uri": "https://localhost:8080/"
        },
        "outputId": "4db3c1da-0aff-42b3-a16a-2c03781b765d"
      },
      "source": [
        "lr=LogisticRegression()\n",
        "a=cross_val_score(lr,x_train,y_train,cv=kfold)\n",
        "print(\"accuracy(LogReg):\",np.mean(a))"
      ],
      "execution_count": 161,
      "outputs": [
        {
          "output_type": "stream",
          "text": [
            "accuracy(LogReg): 0.8058801498127341\n"
          ],
          "name": "stdout"
        }
      ]
    },
    {
      "cell_type": "code",
      "metadata": {
        "id": "br--SjJvKvX_",
        "colab": {
          "base_uri": "https://localhost:8080/"
        },
        "outputId": "ac8aa12c-4f02-4092-b3cf-a2435bf126c4"
      },
      "source": [
        "rfc=RandomForestClassifier()\n",
        "a=cross_val_score(rfc,x_train,y_train,cv=kfold)\n",
        "print(\"accuracy(RandForClassifier):\",np.mean(a))"
      ],
      "execution_count": 162,
      "outputs": [
        {
          "output_type": "stream",
          "text": [
            "accuracy(RandForClassifier): 0.8126342072409489\n"
          ],
          "name": "stdout"
        }
      ]
    },
    {
      "cell_type": "code",
      "metadata": {
        "id": "GSeJedI2L_uQ",
        "colab": {
          "base_uri": "https://localhost:8080/"
        },
        "outputId": "acc23aaf-6b98-416f-dc5f-6235519d1c79"
      },
      "source": [
        "knn=KNeighborsClassifier(n_neighbors=13)\n",
        "a=cross_val_score(knn,x_train,y_train,cv=kfold)\n",
        "print(\"accuracy(KNeighbourClassifier):\",np.mean(a))"
      ],
      "execution_count": 163,
      "outputs": [
        {
          "output_type": "stream",
          "text": [
            "accuracy(KNeighbourClassifier): 0.8148813982521848\n"
          ],
          "name": "stdout"
        }
      ]
    },
    {
      "cell_type": "code",
      "metadata": {
        "id": "u4VSTj9zMfDP",
        "colab": {
          "base_uri": "https://localhost:8080/"
        },
        "outputId": "4c42a68b-9b38-49da-e5f5-921e7404f46c"
      },
      "source": [
        "gnb=GaussianNB()\n",
        "a=cross_val_score(gnb,x_train,y_train,cv=kfold)\n",
        "print(\"accuracy(GaussianNB):\",np.mean(a))"
      ],
      "execution_count": 164,
      "outputs": [
        {
          "output_type": "stream",
          "text": [
            "accuracy(GaussianNB): 0.8003121098626715\n"
          ],
          "name": "stdout"
        }
      ]
    },
    {
      "cell_type": "code",
      "metadata": {
        "id": "K_-wEuIJMy0a",
        "colab": {
          "base_uri": "https://localhost:8080/"
        },
        "outputId": "58927d44-5fb8-4fc7-bf65-bbb0b1fe8b04"
      },
      "source": [
        "tree=DecisionTreeClassifier()\n",
        "a=cross_val_score(tree,x_train,y_train,cv=kfold)\n",
        "print(\"accuracy(DecisionTreeClassifier):\",np.mean(a))"
      ],
      "execution_count": 165,
      "outputs": [
        {
          "output_type": "stream",
          "text": [
            "accuracy(DecisionTreeClassifier): 0.7733208489388265\n"
          ],
          "name": "stdout"
        }
      ]
    }
  ]
}