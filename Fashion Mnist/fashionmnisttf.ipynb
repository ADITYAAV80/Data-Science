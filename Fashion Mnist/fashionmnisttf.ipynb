{
  "nbformat": 4,
  "nbformat_minor": 0,
  "metadata": {
    "colab": {
      "name": "fashionmnisttf.ipynb",
      "provenance": [],
      "collapsed_sections": []
    },
    "kernelspec": {
      "name": "python3",
      "display_name": "Python 3"
    }
  },
  "cells": [
    {
      "cell_type": "code",
      "metadata": {
        "id": "k5dSd7T9Zlwj"
      },
      "source": [
        "import tensorflow as tf\n",
        "import numpy as np\n",
        "import pandas as pd\n",
        "import matplotlib.pyplot as plt\n",
        "%matplotlib inline"
      ],
      "execution_count": null,
      "outputs": []
    },
    {
      "cell_type": "code",
      "metadata": {
        "id": "mOZnEQPnZsaQ"
      },
      "source": [
        "mnist= tf.keras.datasets.fashion_mnist"
      ],
      "execution_count": null,
      "outputs": []
    },
    {
      "cell_type": "code",
      "metadata": {
        "id": "p4wxbjtHEgnz",
        "colab": {
          "base_uri": "https://localhost:8080/",
          "height": 34
        },
        "outputId": "6f71175d-53cd-49da-c2e2-654dfb1cf577"
      },
      "source": [
        "type(mnist)"
      ],
      "execution_count": null,
      "outputs": [
        {
          "output_type": "execute_result",
          "data": {
            "text/plain": [
              "module"
            ]
          },
          "metadata": {
            "tags": []
          },
          "execution_count": 3
        }
      ]
    },
    {
      "cell_type": "code",
      "metadata": {
        "id": "lZ0gX2iIEh8i"
      },
      "source": [
        "(x_train,y_train),(x_test,y_test)=mnist.load_data()"
      ],
      "execution_count": null,
      "outputs": []
    },
    {
      "cell_type": "code",
      "metadata": {
        "id": "ZyPd73oaE3wO",
        "colab": {
          "base_uri": "https://localhost:8080/",
          "height": 84
        },
        "outputId": "01ec4375-4616-4784-f62d-9e99dcbd7dd8"
      },
      "source": [
        "print(\"x_train_shape:\",x_train.shape)\n",
        "print(\"x_test_shape:\",x_test.shape)\n",
        "print(\"y_train_shape:\",y_train.shape)\n",
        "print(\"y_test_shape:\",y_test.shape)"
      ],
      "execution_count": null,
      "outputs": [
        {
          "output_type": "stream",
          "text": [
            "x_train_shape: (60000, 28, 28)\n",
            "x_test_shape: (10000, 28, 28)\n",
            "y_train_shape: (60000,)\n",
            "y_test_shape: (10000,)\n"
          ],
          "name": "stdout"
        }
      ]
    },
    {
      "cell_type": "code",
      "metadata": {
        "id": "LvjtH1tfE7Bp",
        "colab": {
          "base_uri": "https://localhost:8080/",
          "height": 84
        },
        "outputId": "57b450d4-a8f3-4e9c-81ce-e187f754d1ab"
      },
      "source": [
        "print(\"unique value:\",np.unique(y_train))\n",
        "print(\"mean of x_train:\",np.mean(x_train))\n",
        "print(\"max of x_train:\",np.max(x_train))\n",
        "print(\"mean of x_test:\",np.mean(x_test))"
      ],
      "execution_count": null,
      "outputs": [
        {
          "output_type": "stream",
          "text": [
            "unique value: [0 1 2 3 4 5 6 7 8 9]\n",
            "mean of x_train: 72.94035223214286\n",
            "max of x_train: 255\n",
            "mean of x_test: 73.14656658163265\n"
          ],
          "name": "stdout"
        }
      ]
    },
    {
      "cell_type": "code",
      "metadata": {
        "id": "R5Q24FqpFHqU",
        "colab": {
          "base_uri": "https://localhost:8080/",
          "height": 282
        },
        "outputId": "f53786a6-eb87-43d5-db53-e3d6e892f617"
      },
      "source": [
        "plt.imshow(x_train[0])\n",
        "plt.colorbar()"
      ],
      "execution_count": null,
      "outputs": [
        {
          "output_type": "execute_result",
          "data": {
            "text/plain": [
              "<matplotlib.colorbar.Colorbar at 0x7fd07783ce10>"
            ]
          },
          "metadata": {
            "tags": []
          },
          "execution_count": 7
        },
        {
          "output_type": "display_data",
          "data": {
            "image/png": "[encoded data removed]",
            "text/plain": [
              "<Figure size 432x288 with 2 Axes>"
            ]
          },
          "metadata": {
            "tags": [],
            "needs_background": "light"
          }
        }
      ]
    },
    {
      "cell_type": "code",
      "metadata": {
        "id": "ILrIrqx9Ft9T"
      },
      "source": [
        "x_train=x_train/255\n",
        "x_test=x_test/255"
      ],
      "execution_count": null,
      "outputs": []
    },
    {
      "cell_type": "code",
      "metadata": {
        "id": "-gtZ3MUDVHzs",
        "colab": {
          "base_uri": "https://localhost:8080/",
          "height": 286
        },
        "outputId": "3cb6baf7-5fed-4c31-825d-7194e16c424b"
      },
      "source": [
        "plt.imshow(x_train[0])\n",
        "plt.colorbar()"
      ],
      "execution_count": null,
      "outputs": [
        {
          "output_type": "execute_result",
          "data": {
            "text/plain": [
              "<matplotlib.colorbar.Colorbar at 0x7fd0772e98d0>"
            ]
          },
          "metadata": {
            "tags": []
          },
          "execution_count": 9
        },
        {
          "output_type": "display_data",
          "data": {
            "image/png": "[encoded data removed]",
            "text/plain": [
              "<Figure size 432x288 with 2 Axes>"
            ]
          },
          "metadata": {
            "tags": [],
            "needs_background": "light"
          }
        }
      ]
    },
    {
      "cell_type": "markdown",
      "metadata": {
        "id": "1KcAjOOQXaU1"
      },
      "source": [
        "<center><h1>Build Of Model With Tensorflow 2.0</h1></center>"
      ]
    },
    {
      "cell_type": "code",
      "metadata": {
        "id": "_56OiRa0YRhM"
      },
      "source": [
        "model=tf.keras.Sequential()"
      ],
      "execution_count": null,
      "outputs": []
    },
    {
      "cell_type": "code",
      "metadata": {
        "id": "SG82SteZ_9xZ"
      },
      "source": [
        "model.add(tf.keras.layers.Flatten(input_shape=(28,28)))"
      ],
      "execution_count": null,
      "outputs": []
    },
    {
      "cell_type": "code",
      "metadata": {
        "id": "AKVSGBjPAPfy"
      },
      "source": [
        "model.add(tf.keras.layers.Dense(128,activation='sigmoid'))\n",
        "model.add(tf.keras.layers.Dense(10,activation='softmax'))"
      ],
      "execution_count": null,
      "outputs": []
    },
    {
      "cell_type": "code",
      "metadata": {
        "id": "EIm1ZpGiAuzm",
        "colab": {
          "base_uri": "https://localhost:8080/",
          "height": 252
        },
        "outputId": "495da3b1-b729-4518-b8d3-3d9c1f207ee0"
      },
      "source": [
        "model.summary()"
      ],
      "execution_count": null,
      "outputs": [
        {
          "output_type": "stream",
          "text": [
            "Model: \"sequential\"\n",
            "_________________________________________________________________\n",
            "Layer (type)                 Output Shape              Param #   \n",
            "=================================================================\n",
            "flatten (Flatten)            (None, 784)               0         \n",
            "_________________________________________________________________\n",
            "dense (Dense)                (None, 128)               100480    \n",
            "_________________________________________________________________\n",
            "dense_1 (Dense)              (None, 10)                1290      \n",
            "=================================================================\n",
            "Total params: 101,770\n",
            "Trainable params: 101,770\n",
            "Non-trainable params: 0\n",
            "_________________________________________________________________\n"
          ],
          "name": "stdout"
        }
      ]
    },
    {
      "cell_type": "code",
      "metadata": {
        "id": "SwECUHspAxYb"
      },
      "source": [
        "#model.optimizer=tf.optimizers.Adam\n",
        "#model.loss=tf.losses.SparseCategoricalCrossentropy(from_logits=True)\n",
        "#model.metrics=['accuracy']\n",
        "model.compile(optimizer='adam',loss='sparse_categorical_crossentropy',metrics=['accuracy'])"
      ],
      "execution_count": null,
      "outputs": []
    },
    {
      "cell_type": "code",
      "metadata": {
        "id": "NyKW0xYFC_AD",
        "colab": {
          "base_uri": "https://localhost:8080/",
          "height": 353
        },
        "outputId": "7ab09fd4-adb4-41e1-bf3f-d325a32c8ea7"
      },
      "source": [
        "history=model.fit(x_train,y_train,epochs=10,batch_size=10,validation_split=0.2)"
      ],
      "execution_count": null,
      "outputs": [
        {
          "output_type": "stream",
          "text": [
            "Epoch 1/10\n",
            "4800/4800 [==============================] - 10s 2ms/step - loss: 0.5111 - accuracy: 0.8208 - val_loss: 0.4203 - val_accuracy: 0.8452\n",
            "Epoch 2/10\n",
            "4800/4800 [==============================] - 10s 2ms/step - loss: 0.3835 - accuracy: 0.8612 - val_loss: 0.3703 - val_accuracy: 0.8658\n",
            "Epoch 3/10\n",
            "4800/4800 [==============================] - 11s 2ms/step - loss: 0.3450 - accuracy: 0.8734 - val_loss: 0.3524 - val_accuracy: 0.8728\n",
            "Epoch 4/10\n",
            "4800/4800 [==============================] - 11s 2ms/step - loss: 0.3207 - accuracy: 0.8812 - val_loss: 0.3474 - val_accuracy: 0.8744\n",
            "Epoch 5/10\n",
            "4800/4800 [==============================] - 10s 2ms/step - loss: 0.2991 - accuracy: 0.8893 - val_loss: 0.3385 - val_accuracy: 0.8759\n",
            "Epoch 6/10\n",
            "4800/4800 [==============================] - 9s 2ms/step - loss: 0.2843 - accuracy: 0.8942 - val_loss: 0.3225 - val_accuracy: 0.8810\n",
            "Epoch 7/10\n",
            "4800/4800 [==============================] - 8s 2ms/step - loss: 0.2729 - accuracy: 0.8986 - val_loss: 0.3153 - val_accuracy: 0.8856\n",
            "Epoch 8/10\n",
            "4800/4800 [==============================] - 9s 2ms/step - loss: 0.2609 - accuracy: 0.9021 - val_loss: 0.3203 - val_accuracy: 0.8842\n",
            "Epoch 9/10\n",
            "4800/4800 [==============================] - 11s 2ms/step - loss: 0.2504 - accuracy: 0.9066 - val_loss: 0.3068 - val_accuracy: 0.8870\n",
            "Epoch 10/10\n",
            "4800/4800 [==============================] - 11s 2ms/step - loss: 0.2408 - accuracy: 0.9097 - val_loss: 0.3175 - val_accuracy: 0.8862\n"
          ],
          "name": "stdout"
        }
      ]
    },
    {
      "cell_type": "code",
      "metadata": {
        "id": "8ysKpCeREvbZ",
        "colab": {
          "base_uri": "https://localhost:8080/",
          "height": 34
        },
        "outputId": "4f0a4951-75e9-4407-f61e-7b4af777ce37"
      },
      "source": [
        "test_loss,test_acc=model.evaluate(x_test,y_test,batch_size=10)"
      ],
      "execution_count": null,
      "outputs": [
        {
          "output_type": "stream",
          "text": [
            "1000/1000 [==============================] - 1s 1ms/step - loss: 0.3511 - accuracy: 0.8756\n"
          ],
          "name": "stdout"
        }
      ]
    },
    {
      "cell_type": "code",
      "metadata": {
        "id": "-DK6y0RXFUr_",
        "colab": {
          "base_uri": "https://localhost:8080/",
          "height": 689
        },
        "outputId": "2fe9e7a0-751f-4212-9b5b-edaf82986ff6"
      },
      "source": [
        "history.history"
      ],
      "execution_count": null,
      "outputs": [
        {
          "output_type": "execute_result",
          "data": {
            "text/plain": [
              "{'accuracy': [0.8207708597183228,\n",
              "  0.8612291812896729,\n",
              "  0.8733541369438171,\n",
              "  0.8812291622161865,\n",
              "  0.8893333077430725,\n",
              "  0.8942083120346069,\n",
              "  0.89864581823349,\n",
              "  0.9020624756813049,\n",
              "  0.906624972820282,\n",
              "  0.9097083210945129],\n",
              " 'loss': [0.5111243724822998,\n",
              "  0.38347139954566956,\n",
              "  0.3449694514274597,\n",
              "  0.3207339644432068,\n",
              "  0.29913389682769775,\n",
              "  0.28432345390319824,\n",
              "  0.2729332745075226,\n",
              "  0.2608661651611328,\n",
              "  0.2503814995288849,\n",
              "  0.24078777432441711],\n",
              " 'val_accuracy': [0.8451666831970215,\n",
              "  0.8658333420753479,\n",
              "  0.8728333115577698,\n",
              "  0.8744166493415833,\n",
              "  0.8759166598320007,\n",
              "  0.8809999823570251,\n",
              "  0.8855833411216736,\n",
              "  0.8841666579246521,\n",
              "  0.8870000243186951,\n",
              "  0.8861666917800903],\n",
              " 'val_loss': [0.42030224204063416,\n",
              "  0.3703451454639435,\n",
              "  0.35240522027015686,\n",
              "  0.3473874628543854,\n",
              "  0.33848586678504944,\n",
              "  0.32249337434768677,\n",
              "  0.3152809739112854,\n",
              "  0.32033321261405945,\n",
              "  0.30677229166030884,\n",
              "  0.3175322711467743]}"
            ]
          },
          "metadata": {
            "tags": []
          },
          "execution_count": 17
        }
      ]
    },
    {
      "cell_type": "code",
      "metadata": {
        "id": "CFHnudoPWZWq",
        "colab": {
          "base_uri": "https://localhost:8080/",
          "height": 573
        },
        "outputId": "39ba649e-4af2-4a57-938e-cb256818dcd9"
      },
      "source": [
        "plt.plot(history.history['accuracy'],color='red')\n",
        "plt.plot(history.history['val_accuracy'],color='orange')\n",
        "plt.xlabel('no of iterations')\n",
        "plt.ylabel('accuracy')\n",
        "plt.title('accuracy v/s no of iterations')\n",
        "plt.legend(['Test','Train'])\n",
        "plt.show()\n",
        "plt.plot(history.history['loss'],color='red')\n",
        "plt.plot(history.history['val_loss'],color='orange')\n",
        "plt.xlabel('no of iterations')\n",
        "plt.ylabel('loss')\n",
        "plt.title('loss v/s no of iterations')\n",
        "plt.legend(['Test','Train'])\n",
        "plt.show()"
      ],
      "execution_count": null,
      "outputs": [
        {
          "output_type": "display_data",
          "data": {
            "image/png": "[encoded data removed]",
            "text/plain": [
              "<Figure size 432x288 with 1 Axes>"
            ]
          },
          "metadata": {
            "tags": [],
            "needs_background": "light"
          }
        },
        {
          "output_type": "display_data",
          "data": {
            "image/png": "[encoded data removed]",
            "text/plain": [
              "<Figure size 432x288 with 1 Axes>"
            ]
          },
          "metadata": {
            "tags": [],
            "needs_background": "light"
          }
        }
      ]
    },
    {
      "cell_type": "code",
      "metadata": {
        "id": "KIpMFBSlWhPE",
        "colab": {
          "base_uri": "https://localhost:8080/",
          "height": 87
        },
        "outputId": "34ac11e4-7a5a-40de-f2ec-4ea559c350db"
      },
      "source": [
        "y_pred=model.predict_classes(x_test)"
      ],
      "execution_count": null,
      "outputs": [
        {
          "output_type": "stream",
          "text": [
            "WARNING:tensorflow:From <ipython-input-19-7e95b17fe9a2>:1: Sequential.predict_classes (from tensorflow.python.keras.engine.sequential) is deprecated and will be removed after 2021-01-01.\n",
            "Instructions for updating:\n",
            "Please use instead:* `np.argmax(model.predict(x), axis=-1)`,   if your model does multi-class classification   (e.g. if it uses a `softmax` last-layer activation).* `(model.predict(x) > 0.5).astype(\"int32\")`,   if your model does binary classification   (e.g. if it uses a `sigmoid` last-layer activation).\n"
          ],
          "name": "stdout"
        }
      ]
    },
    {
      "cell_type": "code",
      "metadata": {
        "id": "nIjTWhTIbdPo"
      },
      "source": [
        "from sklearn.metrics import confusion_matrix"
      ],
      "execution_count": null,
      "outputs": []
    },
    {
      "cell_type": "code",
      "metadata": {
        "id": "Xi7PdfO5bk46"
      },
      "source": [
        "mat= confusion_matrix(y_test,y_pred)"
      ],
      "execution_count": null,
      "outputs": []
    },
    {
      "cell_type": "code",
      "metadata": {
        "id": "bDLL_VXPbo8N",
        "colab": {
          "base_uri": "https://localhost:8080/",
          "height": 185
        },
        "outputId": "f1e2ad52-cb3b-45e2-b568-dc939b36554c"
      },
      "source": [
        "mat"
      ],
      "execution_count": null,
      "outputs": [
        {
          "output_type": "execute_result",
          "data": {
            "text/plain": [
              "array([[714,   3,   8,  41,   2,   0, 225,   0,   7,   0],\n",
              "       [  0, 973,   0,  19,   2,   0,   3,   0,   3,   0],\n",
              "       [ 10,   0, 802,  13,  71,   0, 102,   0,   2,   0],\n",
              "       [ 12,  12,   7, 905,  22,   0,  37,   0,   5,   0],\n",
              "       [  1,   1, 105,  40, 749,   0,  99,   0,   5,   0],\n",
              "       [  1,   0,   0,   1,   0, 937,   0,  39,   1,  21],\n",
              "       [ 63,   2,  65,  33,  46,   0, 780,   0,  11,   0],\n",
              "       [  0,   0,   0,   0,   0,   9,   0, 961,   0,  30],\n",
              "       [  2,   0,   2,   4,   4,   2,   7,   5, 974,   0],\n",
              "       [  0,   0,   0,   1,   0,   4,   1,  33,   0, 961]])"
            ]
          },
          "metadata": {
            "tags": []
          },
          "execution_count": 22
        }
      ]
    },
    {
      "cell_type": "code",
      "metadata": {
        "id": "av7mBfTZbqJ3"
      },
      "source": [
        "from mlxtend.plotting import plot_confusion_matrix"
      ],
      "execution_count": null,
      "outputs": []
    },
    {
      "cell_type": "code",
      "metadata": {
        "id": "o1luZGgDd4U9"
      },
      "source": [
        "import mlxtend"
      ],
      "execution_count": null,
      "outputs": []
    },
    {
      "cell_type": "code",
      "metadata": {
        "id": "Eb5VRx3ldq7X",
        "colab": {
          "base_uri": "https://localhost:8080/",
          "height": 34
        },
        "outputId": "dfa2bd41-8071-4cbf-d0a6-cb9730c26643"
      },
      "source": [
        "print(mlxtend.__version__)"
      ],
      "execution_count": null,
      "outputs": [
        {
          "output_type": "stream",
          "text": [
            "0.17.3\n"
          ],
          "name": "stdout"
        }
      ]
    },
    {
      "cell_type": "code",
      "metadata": {
        "id": "2X5u5eX9b0xF",
        "colab": {
          "base_uri": "https://localhost:8080/",
          "height": 625
        },
        "outputId": "b768ee48-0b7e-4658-fb5f-bb3b8938cc5b"
      },
      "source": [
        "plot_confusion_matrix(mat,colorbar=True,figsize=(10,10),class_names=['top','trouser','pullover','dress','coat','sandal','shirt','sneaker','bag','ankle boot'])"
      ],
      "execution_count": null,
      "outputs": [
        {
          "output_type": "execute_result",
          "data": {
            "text/plain": [
              "(<Figure size 720x720 with 2 Axes>,\n",
              " <matplotlib.axes._subplots.AxesSubplot at 0x7fd063e58048>)"
            ]
          },
          "metadata": {
            "tags": []
          },
          "execution_count": 26
        },
        {
          "output_type": "display_data",
          "data": {
            "image/png": "[encoded data removed]",
            "text/plain": [
              "<Figure size 720x720 with 2 Axes>"
            ]
          },
          "metadata": {
            "tags": [],
            "needs_background": "light"
          }
        }
      ]
    },
    {
      "cell_type": "code",
      "metadata": {
        "id": "Sw2kjScVcBGh"
      },
      "source": [
        ""
      ],
      "execution_count": null,
      "outputs": []
    }
  ]
}