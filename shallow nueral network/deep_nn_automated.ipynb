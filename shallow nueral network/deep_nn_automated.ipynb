{
  "nbformat": 4,
  "nbformat_minor": 0,
  "metadata": {
    "colab": {
      "name": "deep_nn_automated.ipynb",
      "provenance": []
    },
    "kernelspec": {
      "name": "python3",
      "display_name": "Python 3"
    }
  },
  "cells": [
    {
      "cell_type": "code",
      "metadata": {
        "id": "e3cXi-gfqM6a"
      },
      "source": [
        "import numpy as np\n",
        "\n",
        "def sigmoid(Z):\n",
        "    \"\"\"\n",
        "    Implements the sigmoid activation in numpy\n",
        "    \n",
        "    Arguments:\n",
        "    Z -- numpy array of any shape\n",
        "    \n",
        "    Returns:\n",
        "    A -- output of sigmoid(z), same shape as Z\n",
        "    cache -- returns Z as well, useful during backpropagation\n",
        "    \"\"\"\n",
        "    \n",
        "    A = 1/(1+np.exp(-Z))\n",
        "    cache = Z\n",
        "    \n",
        "    return A, cache\n",
        "\n",
        "def relu(Z):\n",
        "    \"\"\"\n",
        "    Implement the RELU function.\n",
        "\n",
        "    Arguments:\n",
        "    Z -- Output of the linear layer, of any shape\n",
        "\n",
        "    Returns:\n",
        "    A -- Post-activation parameter, of the same shape as Z\n",
        "    cache -- a python dictionary containing \"A\" ; stored for computing the backward pass efficiently\n",
        "    \"\"\"\n",
        "    \n",
        "    A = np.maximum(0,Z)\n",
        "    \n",
        "    assert(A.shape == Z.shape)\n",
        "    \n",
        "    cache = Z \n",
        "    return A, cache\n",
        "\n",
        "\n",
        "def relu_backward(dA, cache):\n",
        "    \"\"\"\n",
        "    Implement the backward propagation for a single RELU unit.\n",
        "\n",
        "    Arguments:\n",
        "    dA -- post-activation gradient, of any shape\n",
        "    cache -- 'Z' where we store for computing backward propagation efficiently\n",
        "\n",
        "    Returns:\n",
        "    dZ -- Gradient of the cost with respect to Z\n",
        "    \"\"\"\n",
        "    \n",
        "    Z = cache\n",
        "    dZ = np.array(dA, copy=True) # just converting dz to a correct object.\n",
        "    \n",
        "    # When z <= 0, you should set dz to 0 as well. \n",
        "    dZ[Z <= 0] = 0\n",
        "    \n",
        "    assert (dZ.shape == Z.shape)\n",
        "    \n",
        "    return dZ\n",
        "\n",
        "def sigmoid_backward(dA, cache):\n",
        "    \"\"\"\n",
        "    Implement the backward propagation for a single SIGMOID unit.\n",
        "\n",
        "    Arguments:\n",
        "    dA -- post-activation gradient, of any shape\n",
        "    cache -- 'Z' where we store for computing backward propagation efficiently\n",
        "\n",
        "    Returns:\n",
        "    dZ -- Gradient of the cost with respect to Z\n",
        "    \"\"\"\n",
        "    \n",
        "    Z = cache\n",
        "    \n",
        "    s = 1/(1+np.exp(-Z))\n",
        "    dZ = dA * s * (1-s)\n",
        "    \n",
        "    assert (dZ.shape == Z.shape)\n",
        "    \n",
        "    return dZ\n",
        "\n"
      ],
      "execution_count": 1,
      "outputs": []
    },
    {
      "cell_type": "code",
      "metadata": {
        "id": "xZpwwlE4rp9u"
      },
      "source": [
        "import numpy as np\n",
        "\n",
        "def linear_forward_test_case():\n",
        "    np.random.seed(1)\n",
        "    \"\"\"\n",
        "    X = np.array([[-1.02387576, 1.12397796],\n",
        " [-1.62328545, 0.64667545],\n",
        " [-1.74314104, -0.59664964]])\n",
        "    W = np.array([[ 0.74505627, 1.97611078, -1.24412333]])\n",
        "    b = np.array([[1]])\n",
        "    \"\"\"\n",
        "    A = np.random.randn(3,2)\n",
        "    W = np.random.randn(1,3)\n",
        "    b = np.random.randn(1,1)\n",
        "    \n",
        "    return A, W, b\n",
        "\n",
        "def linear_activation_forward_test_case():\n",
        "    \"\"\"\n",
        "    X = np.array([[-1.02387576, 1.12397796],\n",
        " [-1.62328545, 0.64667545],\n",
        " [-1.74314104, -0.59664964]])\n",
        "    W = np.array([[ 0.74505627, 1.97611078, -1.24412333]])\n",
        "    b = 5\n",
        "    \"\"\"\n",
        "    np.random.seed(2)\n",
        "    A_prev = np.random.randn(3,2)\n",
        "    W = np.random.randn(1,3)\n",
        "    b = np.random.randn(1,1)\n",
        "    return A_prev, W, b\n",
        "\n",
        "def L_model_forward_test_case():\n",
        "    \"\"\"\n",
        "    X = np.array([[-1.02387576, 1.12397796],\n",
        " [-1.62328545, 0.64667545],\n",
        " [-1.74314104, -0.59664964]])\n",
        "    parameters = {'W1': np.array([[ 1.62434536, -0.61175641, -0.52817175],\n",
        "        [-1.07296862,  0.86540763, -2.3015387 ]]),\n",
        " 'W2': np.array([[ 1.74481176, -0.7612069 ]]),\n",
        " 'b1': np.array([[ 0.],\n",
        "        [ 0.]]),\n",
        " 'b2': np.array([[ 0.]])}\n",
        "    \"\"\"\n",
        "    np.random.seed(1)\n",
        "    X = np.random.randn(4,2)\n",
        "    W1 = np.random.randn(3,4)\n",
        "    b1 = np.random.randn(3,1)\n",
        "    W2 = np.random.randn(1,3)\n",
        "    b2 = np.random.randn(1,1)\n",
        "    parameters = {\"W1\": W1,\n",
        "                  \"b1\": b1,\n",
        "                  \"W2\": W2,\n",
        "                  \"b2\": b2}\n",
        "    \n",
        "    return X, parameters\n",
        "\n",
        "def compute_cost_test_case():\n",
        "    Y = np.asarray([[1, 1, 0]])\n",
        "    aL = np.array([[.8,.9,0.4]])\n",
        "    \n",
        "    return Y, aL\n",
        "\n",
        "def linear_backward_test_case():\n",
        "    \"\"\"\n",
        "    z, linear_cache = (np.array([[-0.8019545 ,  3.85763489]]), (np.array([[-1.02387576,  1.12397796],\n",
        "       [-1.62328545,  0.64667545],\n",
        "       [-1.74314104, -0.59664964]]), np.array([[ 0.74505627,  1.97611078, -1.24412333]]), np.array([[1]]))\n",
        "    \"\"\"\n",
        "    np.random.seed(1)\n",
        "    dZ = np.random.randn(3,4)\n",
        "    A = np.random.randn(5,4)\n",
        "    W = np.random.randn(3,5)\n",
        "    b = np.random.randn(3,1)\n",
        "    linear_cache = (A, W, b)\n",
        "    return dZ, linear_cache\n",
        "\n",
        "def linear_activation_backward_test_case():\n",
        "    \"\"\"\n",
        "    aL, linear_activation_cache = (np.array([[ 3.1980455 ,  7.85763489]]), ((np.array([[-1.02387576,  1.12397796], [-1.62328545,  0.64667545], [-1.74314104, -0.59664964]]), np.array([[ 0.74505627,  1.97611078, -1.24412333]]), 5), np.array([[ 3.1980455 ,  7.85763489]])))\n",
        "    \"\"\"\n",
        "    np.random.seed(2)\n",
        "    dA = np.random.randn(1,2)\n",
        "    A = np.random.randn(3,2)\n",
        "    W = np.random.randn(1,3)\n",
        "    b = np.random.randn(1,1)\n",
        "    Z = np.random.randn(1,2)\n",
        "    linear_cache = (A, W, b)\n",
        "    activation_cache = Z\n",
        "    linear_activation_cache = (linear_cache, activation_cache)\n",
        "    \n",
        "    return dA, linear_activation_cache\n",
        "\n",
        "def L_model_backward_test_case():\n",
        "    \"\"\"\n",
        "    X = np.random.rand(3,2)\n",
        "    Y = np.array([[1, 1]])\n",
        "    parameters = {'W1': np.array([[ 1.78862847,  0.43650985,  0.09649747]]), 'b1': np.array([[ 0.]])}\n",
        "\n",
        "    aL, caches = (np.array([[ 0.60298372,  0.87182628]]), [((np.array([[ 0.20445225,  0.87811744],\n",
        "           [ 0.02738759,  0.67046751],\n",
        "           [ 0.4173048 ,  0.55868983]]),\n",
        "    np.array([[ 1.78862847,  0.43650985,  0.09649747]]),\n",
        "    np.array([[ 0.]])),\n",
        "   np.array([[ 0.41791293,  1.91720367]]))])\n",
        "   \"\"\"\n",
        "    np.random.seed(3)\n",
        "    AL = np.random.randn(1, 2)\n",
        "    Y = np.array([[1, 0]])\n",
        "\n",
        "    A1 = np.random.randn(4,2)\n",
        "    W1 = np.random.randn(3,4)\n",
        "    b1 = np.random.randn(3,1)\n",
        "    Z1 = np.random.randn(3,2)\n",
        "    linear_cache_activation_1 = ((A1, W1, b1), Z1)\n",
        "\n",
        "    A2 = np.random.randn(3,2)\n",
        "    W2 = np.random.randn(1,3)\n",
        "    b2 = np.random.randn(1,1)\n",
        "    Z2 = np.random.randn(1,2)\n",
        "    linear_cache_activation_2 = ((A2, W2, b2), Z2)\n",
        "\n",
        "    caches = (linear_cache_activation_1, linear_cache_activation_2)\n",
        "\n",
        "    return AL, Y, caches\n",
        "\n",
        "def update_parameters_test_case():\n",
        "    \"\"\"\n",
        "    parameters = {'W1': np.array([[ 1.78862847,  0.43650985,  0.09649747],\n",
        "        [-1.8634927 , -0.2773882 , -0.35475898],\n",
        "        [-0.08274148, -0.62700068, -0.04381817],\n",
        "        [-0.47721803, -1.31386475,  0.88462238]]),\n",
        " 'W2': np.array([[ 0.88131804,  1.70957306,  0.05003364, -0.40467741],\n",
        "        [-0.54535995, -1.54647732,  0.98236743, -1.10106763],\n",
        "        [-1.18504653, -0.2056499 ,  1.48614836,  0.23671627]]),\n",
        " 'W3': np.array([[-1.02378514, -0.7129932 ,  0.62524497],\n",
        "        [-0.16051336, -0.76883635, -0.23003072]]),\n",
        " 'b1': np.array([[ 0.],\n",
        "        [ 0.],\n",
        "        [ 0.],\n",
        "        [ 0.]]),\n",
        " 'b2': np.array([[ 0.],\n",
        "        [ 0.],\n",
        "        [ 0.]]),\n",
        " 'b3': np.array([[ 0.],\n",
        "        [ 0.]])}\n",
        "    grads = {'dW1': np.array([[ 0.63070583,  0.66482653,  0.18308507],\n",
        "        [ 0.        ,  0.        ,  0.        ],\n",
        "        [ 0.        ,  0.        ,  0.        ],\n",
        "        [ 0.        ,  0.        ,  0.        ]]),\n",
        " 'dW2': np.array([[ 1.62934255,  0.        ,  0.        ,  0.        ],\n",
        "        [ 0.        ,  0.        ,  0.        ,  0.        ],\n",
        "        [ 0.        ,  0.        ,  0.        ,  0.        ]]),\n",
        " 'dW3': np.array([[-1.40260776,  0.        ,  0.        ]]),\n",
        " 'da1': np.array([[ 0.70760786,  0.65063504],\n",
        "        [ 0.17268975,  0.15878569],\n",
        "        [ 0.03817582,  0.03510211]]),\n",
        " 'da2': np.array([[ 0.39561478,  0.36376198],\n",
        "        [ 0.7674101 ,  0.70562233],\n",
        "        [ 0.0224596 ,  0.02065127],\n",
        "        [-0.18165561, -0.16702967]]),\n",
        " 'da3': np.array([[ 0.44888991,  0.41274769],\n",
        "        [ 0.31261975,  0.28744927],\n",
        "        [-0.27414557, -0.25207283]]),\n",
        " 'db1': 0.75937676204411464,\n",
        " 'db2': 0.86163759922811056,\n",
        " 'db3': -0.84161956022334572}\n",
        "    \"\"\"\n",
        "    np.random.seed(2)\n",
        "    W1 = np.random.randn(3,4)\n",
        "    b1 = np.random.randn(3,1)\n",
        "    W2 = np.random.randn(1,3)\n",
        "    b2 = np.random.randn(1,1)\n",
        "    parameters = {\"W1\": W1,\n",
        "                  \"b1\": b1,\n",
        "                  \"W2\": W2,\n",
        "                  \"b2\": b2}\n",
        "    np.random.seed(3)\n",
        "    dW1 = np.random.randn(3,4)\n",
        "    db1 = np.random.randn(3,1)\n",
        "    dW2 = np.random.randn(1,3)\n",
        "    db2 = np.random.randn(1,1)\n",
        "    grads = {\"dW1\": dW1,\n",
        "             \"db1\": db1,\n",
        "             \"dW2\": dW2,\n",
        "             \"db2\": db2}\n",
        "    \n",
        "    return parameters, grads\n",
        "\n",
        "\n",
        "def L_model_forward_test_case_2hidden():\n",
        "    np.random.seed(6)\n",
        "    X = np.random.randn(5,4)\n",
        "    W1 = np.random.randn(4,5)\n",
        "    b1 = np.random.randn(4,1)\n",
        "    W2 = np.random.randn(3,4)\n",
        "    b2 = np.random.randn(3,1)\n",
        "    W3 = np.random.randn(1,3)\n",
        "    b3 = np.random.randn(1,1)\n",
        "  \n",
        "    parameters = {\"W1\": W1,\n",
        "                  \"b1\": b1,\n",
        "                  \"W2\": W2,\n",
        "                  \"b2\": b2,\n",
        "                  \"W3\": W3,\n",
        "                  \"b3\": b3}\n",
        "    \n",
        "    return X, parameters\n",
        "\n",
        "def print_grads(grads):\n",
        "    print (\"dW1 = \"+ str(grads[\"dW1\"]))\n",
        "    print (\"db1 = \"+ str(grads[\"db1\"]))\n",
        "    print (\"dA1 = \"+ str(grads[\"dA1\"]))     \n",
        "    \n"
      ],
      "execution_count": 2,
      "outputs": []
    },
    {
      "cell_type": "code",
      "metadata": {
        "id": "b94CUUKqX7Cu"
      },
      "source": [
        "def init_parameters(layerdims):\n",
        "  parameters={}\n",
        "  L=len(layerdims)\n",
        "  for l in range(1,L):\n",
        "    parameters['W'+str(l)]=np.random.rand(layerdims[l],layerdims[l-1])*0.01\n",
        "    parameters['b'+str(l)]=np.zeros(shape=(layerdims[l],1))\n",
        "  return parameters"
      ],
      "execution_count": 3,
      "outputs": []
    },
    {
      "cell_type": "code",
      "metadata": {
        "id": "YEnGzWeYaAkf",
        "colab": {
          "base_uri": "https://localhost:8080/"
        },
        "outputId": "3c7f0bc7-2c3f-4246-f6eb-65d155d70e3a"
      },
      "source": [
        "parameters = init_parameters([5,4,3])\n",
        "print(\"W1 = \" + str(parameters[\"W1\"]))\n",
        "print(\"b1 = \" + str(parameters[\"b1\"]))\n",
        "print(\"W2 = \" + str(parameters[\"W2\"]))\n",
        "print(\"b2 = \" + str(parameters[\"b2\"]))"
      ],
      "execution_count": 4,
      "outputs": [
        {
          "output_type": "stream",
          "text": [
            "W1 = [[5.84038513e-03 4.37077134e-03 1.26693398e-05 1.80872035e-03\n",
            "  7.88613403e-03]\n",
            " [5.91295870e-03 4.62931927e-03 5.10870839e-03 2.43868713e-04\n",
            "  7.10573831e-03]\n",
            " [9.85854131e-03 3.96596265e-03 6.02624685e-03 9.74309389e-03\n",
            "  2.05465360e-03]\n",
            " [1.29879821e-03 9.30709223e-03 4.38790902e-03 4.51241002e-03\n",
            "  7.67689916e-03]]\n",
            "b1 = [[0.]\n",
            " [0.]\n",
            " [0.]\n",
            " [0.]]\n",
            "W2 = [[0.00212372 0.00274978 0.00791527 0.00138634]\n",
            " [0.0097058  0.00353191 0.00733848 0.002998  ]\n",
            " [0.00690349 0.00280964 0.00841136 0.00084991]]\n",
            "b2 = [[0.]\n",
            " [0.]\n",
            " [0.]]\n"
          ],
          "name": "stdout"
        }
      ]
    },
    {
      "cell_type": "code",
      "metadata": {
        "id": "Q8gq1wfRaIHn"
      },
      "source": [
        "def forward_propagation(A,W,b):\n",
        "  Z=np.dot(W,A)+b\n",
        "  cache=(A,W,b)\n",
        "  return Z,cache"
      ],
      "execution_count": 5,
      "outputs": []
    },
    {
      "cell_type": "code",
      "metadata": {
        "id": "2tuKLDtAaiUR",
        "colab": {
          "base_uri": "https://localhost:8080/"
        },
        "outputId": "0d437dc4-f0c6-4417-feed-fd866cc4f1ab"
      },
      "source": [
        "A, W, b = linear_forward_test_case()\n",
        "\n",
        "Z, linear_cache = forward_propagation(A, W, b)\n",
        "print(\"Z = \" + str(Z))"
      ],
      "execution_count": 6,
      "outputs": [
        {
          "output_type": "stream",
          "text": [
            "Z = [[ 3.26295337 -1.23429987]]\n"
          ],
          "name": "stdout"
        }
      ]
    },
    {
      "cell_type": "code",
      "metadata": {
        "id": "XPY4V4ONapy4"
      },
      "source": [
        "def forward_propagate_activate(A,W,b,activation):\n",
        "  if activation=='sigmoid':\n",
        "    Z,linear_cache=forward_propagation(A,W,b)\n",
        "    A,activation_cache=sigmoid(Z)\n",
        "  if activation=='relu':\n",
        "    Z,linear_cache=forward_propagation(A,W,b)\n",
        "    A,activation_cache=relu(Z)\n",
        "  cache=(linear_cache,activation_cache)\n",
        "  return A,cache"
      ],
      "execution_count": 7,
      "outputs": []
    },
    {
      "cell_type": "code",
      "metadata": {
        "id": "lUPrJCLktWiA",
        "colab": {
          "base_uri": "https://localhost:8080/"
        },
        "outputId": "87fe5ef0-ec80-48a2-cf8f-2413b9423aa3"
      },
      "source": [
        "A_prev, W, b = linear_activation_forward_test_case()\n",
        "\n",
        "A, linear_activation_cache = forward_propagate_activate(A_prev, W, b, activation = \"sigmoid\")\n",
        "print(\"With sigmoid: A = \" + str(A))\n",
        "\n",
        "A, linear_activation_cache = forward_propagate_activate(A_prev, W, b, activation = \"relu\")\n",
        "print(\"With ReLU: A = \" + str(A))"
      ],
      "execution_count": 8,
      "outputs": [
        {
          "output_type": "stream",
          "text": [
            "With sigmoid: A = [[0.96890023 0.11013289]]\n",
            "With ReLU: A = [[3.43896131 0.        ]]\n"
          ],
          "name": "stdout"
        }
      ]
    },
    {
      "cell_type": "code",
      "metadata": {
        "id": "HlA0F_tmu7rw"
      },
      "source": [
        "def forward_propagate_model(X,parameters):\n",
        "  A=X\n",
        "  L=len(parameters)//2\n",
        "  caches=[]\n",
        "  for l in range(1,L):\n",
        "    A,cache=forward_propagate_activate(A,parameters['W'+str(l)],parameters['b'+str(l)],activation='relu')\n",
        "    caches.append(cache)\n",
        "  AL,cache=forward_propagate_activate(A,parameters['W'+str(L)],parameters['b'+str(L)],activation='sigmoid')\n",
        "  caches.append(cache)\n",
        "  return AL,caches"
      ],
      "execution_count": 9,
      "outputs": []
    },
    {
      "cell_type": "code",
      "metadata": {
        "id": "Oz8PetOBySla",
        "colab": {
          "base_uri": "https://localhost:8080/"
        },
        "outputId": "e535c0c7-18db-4d39-8096-42bb562ef063"
      },
      "source": [
        "X, parameters = L_model_forward_test_case_2hidden()\n",
        "AL, caches = forward_propagate_model(X, parameters)\n",
        "print(\"AL = \" + str(AL))\n",
        "print(\"Length of caches list = \" + str(len(caches)))"
      ],
      "execution_count": 10,
      "outputs": [
        {
          "output_type": "stream",
          "text": [
            "AL = [[0.03921668 0.70498921 0.19734387 0.04728177]]\n",
            "Length of caches list = 3\n"
          ],
          "name": "stdout"
        }
      ]
    },
    {
      "cell_type": "code",
      "metadata": {
        "id": "Eb68BKgiyXc6"
      },
      "source": [
        "def compute_cost(AL,Y):\n",
        "  m=Y.shape[1]\n",
        "  cost=(-1/m)*np.sum(np.log(AL)*Y+np.log(1-AL)*(1-Y))\n",
        "  return cost"
      ],
      "execution_count": 11,
      "outputs": []
    },
    {
      "cell_type": "code",
      "metadata": {
        "id": "Io1ed-phzxdc",
        "colab": {
          "base_uri": "https://localhost:8080/"
        },
        "outputId": "bf47d2c1-d4df-416b-afbf-a3a0434c2a5b"
      },
      "source": [
        "Y, AL = compute_cost_test_case()\n",
        "\n",
        "print(\"cost = \" + str(compute_cost(AL, Y)))"
      ],
      "execution_count": 12,
      "outputs": [
        {
          "output_type": "stream",
          "text": [
            "cost = 0.2797765635793422\n"
          ],
          "name": "stdout"
        }
      ]
    },
    {
      "cell_type": "code",
      "metadata": {
        "id": "DYIcsb_Dz10j"
      },
      "source": [
        "def backward_propagate(dZ,cache):\n",
        "  A,W,b=cache\n",
        "  m=A.shape[1]\n",
        "  dw=1/m*np.dot(dZ,A.T)\n",
        "  db=1/m*np.sum(dZ,axis=1,keepdims=True)\n",
        "  dA=np.dot(W.T,dZ)\n",
        "  return dA,dw,db"
      ],
      "execution_count": 13,
      "outputs": []
    },
    {
      "cell_type": "code",
      "metadata": {
        "id": "dTlcLAM02nnH",
        "colab": {
          "base_uri": "https://localhost:8080/"
        },
        "outputId": "f990df22-3a74-4809-9c7b-fedfa32e2a5c"
      },
      "source": [
        "dZ, linear_cache = linear_backward_test_case()\n",
        "\n",
        "dA_prev, dW, db = backward_propagate(dZ, linear_cache)\n",
        "print (\"dA_prev = \"+ str(dA_prev))\n",
        "print (\"dW = \" + str(dW))\n",
        "print (\"db = \" + str(db))"
      ],
      "execution_count": 14,
      "outputs": [
        {
          "output_type": "stream",
          "text": [
            "dA_prev = [[-1.15171336  0.06718465 -0.3204696   2.09812712]\n",
            " [ 0.60345879 -3.72508701  5.81700741 -3.84326836]\n",
            " [-0.4319552  -1.30987417  1.72354705  0.05070578]\n",
            " [-0.38981415  0.60811244 -1.25938424  1.47191593]\n",
            " [-2.52214926  2.67882552 -0.67947465  1.48119548]]\n",
            "dW = [[ 0.07313866 -0.0976715  -0.87585828  0.73763362  0.00785716]\n",
            " [ 0.85508818  0.37530413 -0.59912655  0.71278189 -0.58931808]\n",
            " [ 0.97913304 -0.24376494 -0.08839671  0.55151192 -0.10290907]]\n",
            "db = [[-0.14713786]\n",
            " [-0.11313155]\n",
            " [-0.13209101]]\n"
          ],
          "name": "stdout"
        }
      ]
    },
    {
      "cell_type": "code",
      "metadata": {
        "id": "UJeFoHV12s6q"
      },
      "source": [
        "def backward_propagation_activate(dA,cache,activation):\n",
        "  linear_cache,activation_cache=cache\n",
        "  if activation=='sigmoid':\n",
        "    dZ=sigmoid_backward(dA,cache[1])\n",
        "    dA,dW,db=backward_propagate(dZ,linear_cache)\n",
        "  if activation=='relu':\n",
        "    dZ=relu_backward(dA,cache[1])\n",
        "    dA,dW,db=backward_propagate(dZ,linear_cache)\n",
        "  return dA,dW,db"
      ],
      "execution_count": 15,
      "outputs": []
    },
    {
      "cell_type": "code",
      "metadata": {
        "id": "nF9X4JGe8NCo",
        "colab": {
          "base_uri": "https://localhost:8080/"
        },
        "outputId": "d29729a9-051e-4de5-b5c8-1e138f0432e2"
      },
      "source": [
        "dAL, linear_activation_cache = linear_activation_backward_test_case()\n",
        "\n",
        "dA_prev, dW, db = backward_propagation_activate(dAL, linear_activation_cache, activation = \"sigmoid\")\n",
        "print (\"sigmoid:\")\n",
        "print (\"dA_prev = \"+ str(dA_prev))\n",
        "print (\"dW = \" + str(dW))\n",
        "print (\"db = \" + str(db) + \"\\n\")\n",
        "dA_prev, dW, db = backward_propagation_activate(dAL, linear_activation_cache, activation = \"relu\")\n",
        "print (\"relu:\")\n",
        "print (\"dA_prev = \"+ str(dA_prev))\n",
        "print (\"dW = \" + str(dW))\n",
        "print (\"db = \" + str(db))"
      ],
      "execution_count": 16,
      "outputs": [
        {
          "output_type": "stream",
          "text": [
            "sigmoid:\n",
            "dA_prev = [[ 0.11017994  0.01105339]\n",
            " [ 0.09466817  0.00949723]\n",
            " [-0.05743092 -0.00576154]]\n",
            "dW = [[ 0.10266786  0.09778551 -0.01968084]]\n",
            "db = [[-0.05729622]]\n",
            "\n",
            "relu:\n",
            "dA_prev = [[ 0.44090989  0.        ]\n",
            " [ 0.37883606  0.        ]\n",
            " [-0.2298228   0.        ]]\n",
            "dW = [[ 0.44513824  0.37371418 -0.10478989]]\n",
            "db = [[-0.20837892]]\n"
          ],
          "name": "stdout"
        }
      ]
    },
    {
      "cell_type": "code",
      "metadata": {
        "id": "pPNy2MCk8QPB"
      },
      "source": [
        "def backward_propagate_model(AL,Y,caches):\n",
        "  grads={}\n",
        "  L=len(caches)\n",
        "  m=AL.shape[1]\n",
        "  Y=Y.reshape(AL.shape)\n",
        "  dAL=-(np.divide(Y,AL)-np.divide(1-Y,1-AL))\n",
        "  current_cache=caches[L-1]\n",
        "  grads['dA'+str(L-1)],grads['dW'+str(L)],grads['db'+str(L)]=backward_propagation_activate(dAL,current_cache,activation='sigmoid')\n",
        "  for l in reversed(range(L-1)):\n",
        "    current_cache=caches[l]\n",
        "    grads['dA'+str(l)],grads['dW'+str(l+1)],grads['db'+str(l+1)]=backward_propagation_activate(grads['dA'+str(l+1)],current_cache,activation='relu')\n",
        "  return grads"
      ],
      "execution_count": 17,
      "outputs": []
    },
    {
      "cell_type": "code",
      "metadata": {
        "id": "9dAXjPDyywxc",
        "colab": {
          "base_uri": "https://localhost:8080/"
        },
        "outputId": "8de889bd-95a3-4be0-a3fb-2776bbac030b"
      },
      "source": [
        "AL, Y_assess, caches = L_model_backward_test_case()\n",
        "grads = backward_propagate_model(AL, Y_assess, caches)\n",
        "print_grads(grads)"
      ],
      "execution_count": 18,
      "outputs": [
        {
          "output_type": "stream",
          "text": [
            "dW1 = [[0.41010002 0.07807203 0.13798444 0.10502167]\n",
            " [0.         0.         0.         0.        ]\n",
            " [0.05283652 0.01005865 0.01777766 0.0135308 ]]\n",
            "db1 = [[-0.22007063]\n",
            " [ 0.        ]\n",
            " [-0.02835349]]\n",
            "dA1 = [[ 0.12913162 -0.44014127]\n",
            " [-0.14175655  0.48317296]\n",
            " [ 0.01663708 -0.05670698]]\n"
          ],
          "name": "stdout"
        }
      ]
    },
    {
      "cell_type": "code",
      "metadata": {
        "id": "zPe_pKb2y4GL"
      },
      "source": [
        "def update_parameters(parameters,grads,learning_rate):\n",
        "  L=len(parameters)//2\n",
        "  for  l in range(1,L):\n",
        "    parameters['W'+str(l)]=parameters['W'+str(l)]-learning_rate*grads['dW'+str(l)]\n",
        "    parameters['b'+str(l)]=parameters['b'+str(l)]-learning_rate*grads['db'+str(l)]\n",
        "  return parameters"
      ],
      "execution_count": 19,
      "outputs": []
    },
    {
      "cell_type": "code",
      "metadata": {
        "id": "nt0-yYx_0Y_m",
        "colab": {
          "base_uri": "https://localhost:8080/"
        },
        "outputId": "68a1bb91-3f30-421a-b9ba-e567aa8415cf"
      },
      "source": [
        "parameters, grads = update_parameters_test_case()\n",
        "parameters = update_parameters(parameters, grads, 0.1)\n",
        "\n",
        "print (\"W1 = \"+ str(parameters[\"W1\"]))\n",
        "print (\"b1 = \"+ str(parameters[\"b1\"]))\n",
        "print (\"W2 = \"+ str(parameters[\"W2\"]))\n",
        "print (\"b2 = \"+ str(parameters[\"b2\"]))"
      ],
      "execution_count": 20,
      "outputs": [
        {
          "output_type": "stream",
          "text": [
            "W1 = [[-0.59562069 -0.09991781 -2.14584584  1.82662008]\n",
            " [-1.76569676 -0.80627147  0.51115557 -1.18258802]\n",
            " [-1.0535704  -0.86128581  0.68284052  2.20374577]]\n",
            "b1 = [[-0.04659241]\n",
            " [-1.28888275]\n",
            " [ 0.53405496]]\n",
            "W2 = [[-0.5961597  -0.0191305   1.17500122]]\n",
            "b2 = [[-0.74787095]]\n"
          ],
          "name": "stdout"
        }
      ]
    }
  ]
}